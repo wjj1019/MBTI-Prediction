{
 "cells": [
  {
   "cell_type": "code",
   "execution_count": 414,
   "metadata": {},
   "outputs": [],
   "source": [
    "import numpy as np\n",
    "import pandas as pd\n",
    "import matplotlib.pyplot as plt\n",
    "import seaborn as sns\n",
    "import math\n",
    "from sklearn.model_selection import train_test_split\n",
    "\n",
    "from sklearn.pipeline import Pipeline\n",
    "from sklearn.feature_extraction.text import TfidfTransformer\n",
    "from sklearn.metrics import classification_report, multilabel_confusion_matrix\n",
    "\n",
    "from keras.preprocessing.text import Tokenizer\n",
    "from keras.preprocessing.sequence import pad_sequences\n",
    "from keras.models import Sequential\n",
    "from keras.layers import Dense, Embedding, LSTM, SpatialDropout1D\n",
    "from sklearn.model_selection import train_test_split\n",
    "from keras.utils.np_utils import to_categorical\n",
    "import re\n",
    "\n",
    "import nltk\n",
    "import tensorflow as tf\n",
    "\n",
    "from sklearn.feature_extraction.text import TfidfVectorizer\n",
    "from sklearn.feature_extraction.text import CountVectorizer\n",
    "from nltk.tokenize import RegexpTokenizer\n",
    "from sklearn.naive_bayes import MultinomialNB\n",
    "from keras.layers import Dense, Input, LSTM, GRU, Conv1D, Dropout, Flatten, Layer, BatchNormalization\n",
    "import string\n",
    "from nltk.stem import PorterStemmer\n",
    "from nltk.stem import WordNetLemmatizer\n",
    "from nltk.corpus import stopwords\n",
    "\n",
    "from tensorflow import keras\n",
    "\n",
    "from gensim.models import KeyedVectors\n",
    "from gensim import models\n",
    "\n",
    "import warnings\n",
    "warnings.filterwarnings('ignore')"
   ]
  },
  {
   "cell_type": "code",
   "execution_count": 167,
   "metadata": {},
   "outputs": [
    {
     "data": {
      "text/html": [
       "<div>\n",
       "<style scoped>\n",
       "    .dataframe tbody tr th:only-of-type {\n",
       "        vertical-align: middle;\n",
       "    }\n",
       "\n",
       "    .dataframe tbody tr th {\n",
       "        vertical-align: top;\n",
       "    }\n",
       "\n",
       "    .dataframe thead th {\n",
       "        text-align: right;\n",
       "    }\n",
       "</style>\n",
       "<table border=\"1\" class=\"dataframe\">\n",
       "  <thead>\n",
       "    <tr style=\"text-align: right;\">\n",
       "      <th></th>\n",
       "      <th>type</th>\n",
       "      <th>posts</th>\n",
       "    </tr>\n",
       "  </thead>\n",
       "  <tbody>\n",
       "    <tr>\n",
       "      <th>0</th>\n",
       "      <td>INFJ</td>\n",
       "      <td>'http://www.youtube.com/watch?v=qsXHcwe3krw|||...</td>\n",
       "    </tr>\n",
       "    <tr>\n",
       "      <th>1</th>\n",
       "      <td>ENTP</td>\n",
       "      <td>'I'm finding the lack of me in these posts ver...</td>\n",
       "    </tr>\n",
       "    <tr>\n",
       "      <th>2</th>\n",
       "      <td>INTP</td>\n",
       "      <td>'Good one  _____   https://www.youtube.com/wat...</td>\n",
       "    </tr>\n",
       "    <tr>\n",
       "      <th>3</th>\n",
       "      <td>INTJ</td>\n",
       "      <td>'Dear INTP,   I enjoyed our conversation the o...</td>\n",
       "    </tr>\n",
       "    <tr>\n",
       "      <th>4</th>\n",
       "      <td>ENTJ</td>\n",
       "      <td>'You're fired.|||That's another silly misconce...</td>\n",
       "    </tr>\n",
       "  </tbody>\n",
       "</table>\n",
       "</div>"
      ],
      "text/plain": [
       "   type                                              posts\n",
       "0  INFJ  'http://www.youtube.com/watch?v=qsXHcwe3krw|||...\n",
       "1  ENTP  'I'm finding the lack of me in these posts ver...\n",
       "2  INTP  'Good one  _____   https://www.youtube.com/wat...\n",
       "3  INTJ  'Dear INTP,   I enjoyed our conversation the o...\n",
       "4  ENTJ  'You're fired.|||That's another silly misconce..."
      ]
     },
     "execution_count": 167,
     "metadata": {},
     "output_type": "execute_result"
    }
   ],
   "source": [
    "# Importing Data\n",
    "df = pd.read_csv('mbti_1.csv')\n",
    "df.head()"
   ]
  },
  {
   "cell_type": "code",
   "execution_count": 3,
   "metadata": {},
   "outputs": [
    {
     "data": {
      "text/plain": [
       "array(['INFJ', 'ENTP', 'INTP', 'INTJ', 'ENTJ', 'ENFJ', 'INFP', 'ENFP',\n",
       "       'ISFP', 'ISTP', 'ISFJ', 'ISTJ', 'ESTP', 'ESFP', 'ESTJ', 'ESFJ'],\n",
       "      dtype=object)"
      ]
     },
     "execution_count": 3,
     "metadata": {},
     "output_type": "execute_result"
    }
   ],
   "source": [
    "# Number of Unique MBTI Type\n",
    "df['type'].unique()"
   ]
  },
  {
   "cell_type": "markdown",
   "metadata": {},
   "source": [
    "# EDA"
   ]
  },
  {
   "cell_type": "code",
   "execution_count": 263,
   "metadata": {},
   "outputs": [
    {
     "data": {
      "text/plain": [
       "<matplotlib.axes._subplots.AxesSubplot at 0x23d98e1da30>"
      ]
     },
     "execution_count": 263,
     "metadata": {},
     "output_type": "execute_result"
    },
    {
     "data": {
      "image/png": "[encoded data removed]",
      "text/plain": [
       "<Figure size 720x576 with 1 Axes>"
      ]
     },
     "metadata": {
      "needs_background": "light"
     },
     "output_type": "display_data"
    }
   ],
   "source": [
    "# Visualizing the distribution\n",
    "plt.figure(figsize=(10,8))\n",
    "sns.countplot(df['type'])"
   ]
  },
  {
   "cell_type": "code",
   "execution_count": null,
   "metadata": {},
   "outputs": [],
   "source": [
    "df[df['type']]"
   ]
  },
  {
   "cell_type": "code",
   "execution_count": 269,
   "metadata": {},
   "outputs": [],
   "source": [
    "E = sum(df['type'].str.contains('E'))\n",
    "I = sum(df['type'].str.contains('I'))\n",
    "N = sum(df['type'].str.contains('N'))\n",
    "S = sum(df['type'].str.contains('S'))\n",
    "T = sum(df['type'].str.contains('T'))\n",
    "F = sum(df['type'].str.contains('F'))\n",
    "J = sum(df['type'].str.contains('J'))\n",
    "P = sum(df['type'].str.contains('P'))"
   ]
  },
  {
   "cell_type": "code",
   "execution_count": 276,
   "metadata": {},
   "outputs": [],
   "source": [
    "count = pd.DataFrame(np.array([E,I,N,S,T,F,J,P]), index=['E','I','N','S','T','F','J','P'])"
   ]
  },
  {
   "cell_type": "code",
   "execution_count": 282,
   "metadata": {},
   "outputs": [
    {
     "data": {
      "text/plain": [
       "<BarContainer object of 8 artists>"
      ]
     },
     "execution_count": 282,
     "metadata": {},
     "output_type": "execute_result"
    },
    {
     "data": {
      "image/png": "[encoded data removed]",
      "text/plain": [
       "<Figure size 432x288 with 1 Axes>"
      ]
     },
     "metadata": {
      "needs_background": "light"
     },
     "output_type": "display_data"
    }
   ],
   "source": [
    "plt.bar(x=count.index, height = count[0].values)"
   ]
  },
  {
   "cell_type": "code",
   "execution_count": 279,
   "metadata": {},
   "outputs": [
    {
     "data": {
      "text/plain": [
       "Index(['E', 'I', 'N', 'S', 'T', 'F', 'J', 'P'], dtype='object')"
      ]
     },
     "execution_count": 279,
     "metadata": {},
     "output_type": "execute_result"
    }
   ],
   "source": [
    "count.index"
   ]
  },
  {
   "cell_type": "markdown",
   "metadata": {},
   "source": [
    "# Text Cleaning and Preprocessing"
   ]
  },
  {
   "cell_type": "code",
   "execution_count": 172,
   "metadata": {},
   "outputs": [],
   "source": [
    "# Seperating Type of MBTI to Binary (E and I)\n",
    "def binary_seperation(dataset, mbti_type1, mbti_type2):\n",
    "    for i in range(len(df['type'])):\n",
    "        if mbti_type1 in dataset['type'].iloc[i]:\n",
    "            dataset['type'].iloc[i] = mbti_type1\n",
    "        else:\n",
    "            dataset['type'].iloc[i] = mbti_type2\n",
    "    return dataset"
   ]
  },
  {
   "cell_type": "code",
   "execution_count": 11,
   "metadata": {},
   "outputs": [],
   "source": [
    "ei = binary_seperation(df, 'E', 'I')"
   ]
  },
  {
   "cell_type": "code",
   "execution_count": 12,
   "metadata": {},
   "outputs": [
    {
     "data": {
      "text/html": [
       "<div>\n",
       "<style scoped>\n",
       "    .dataframe tbody tr th:only-of-type {\n",
       "        vertical-align: middle;\n",
       "    }\n",
       "\n",
       "    .dataframe tbody tr th {\n",
       "        vertical-align: top;\n",
       "    }\n",
       "\n",
       "    .dataframe thead th {\n",
       "        text-align: right;\n",
       "    }\n",
       "</style>\n",
       "<table border=\"1\" class=\"dataframe\">\n",
       "  <thead>\n",
       "    <tr style=\"text-align: right;\">\n",
       "      <th></th>\n",
       "      <th>type</th>\n",
       "      <th>posts</th>\n",
       "    </tr>\n",
       "  </thead>\n",
       "  <tbody>\n",
       "    <tr>\n",
       "      <th>0</th>\n",
       "      <td>I</td>\n",
       "      <td>'http://www.youtube.com/watch?v=qsXHcwe3krw|||...</td>\n",
       "    </tr>\n",
       "    <tr>\n",
       "      <th>1</th>\n",
       "      <td>E</td>\n",
       "      <td>'I'm finding the lack of me in these posts ver...</td>\n",
       "    </tr>\n",
       "    <tr>\n",
       "      <th>2</th>\n",
       "      <td>I</td>\n",
       "      <td>'Good one  _____   https://www.youtube.com/wat...</td>\n",
       "    </tr>\n",
       "    <tr>\n",
       "      <th>3</th>\n",
       "      <td>I</td>\n",
       "      <td>'Dear INTP,   I enjoyed our conversation the o...</td>\n",
       "    </tr>\n",
       "    <tr>\n",
       "      <th>4</th>\n",
       "      <td>E</td>\n",
       "      <td>'You're fired.|||That's another silly misconce...</td>\n",
       "    </tr>\n",
       "    <tr>\n",
       "      <th>...</th>\n",
       "      <td>...</td>\n",
       "      <td>...</td>\n",
       "    </tr>\n",
       "    <tr>\n",
       "      <th>8670</th>\n",
       "      <td>I</td>\n",
       "      <td>'https://www.youtube.com/watch?v=t8edHB_h908||...</td>\n",
       "    </tr>\n",
       "    <tr>\n",
       "      <th>8671</th>\n",
       "      <td>E</td>\n",
       "      <td>'So...if this thread already exists someplace ...</td>\n",
       "    </tr>\n",
       "    <tr>\n",
       "      <th>8672</th>\n",
       "      <td>I</td>\n",
       "      <td>'So many questions when i do these things.  I ...</td>\n",
       "    </tr>\n",
       "    <tr>\n",
       "      <th>8673</th>\n",
       "      <td>I</td>\n",
       "      <td>'I am very conflicted right now when it comes ...</td>\n",
       "    </tr>\n",
       "    <tr>\n",
       "      <th>8674</th>\n",
       "      <td>I</td>\n",
       "      <td>'It has been too long since I have been on per...</td>\n",
       "    </tr>\n",
       "  </tbody>\n",
       "</table>\n",
       "<p>8675 rows × 2 columns</p>\n",
       "</div>"
      ],
      "text/plain": [
       "     type                                              posts\n",
       "0       I  'http://www.youtube.com/watch?v=qsXHcwe3krw|||...\n",
       "1       E  'I'm finding the lack of me in these posts ver...\n",
       "2       I  'Good one  _____   https://www.youtube.com/wat...\n",
       "3       I  'Dear INTP,   I enjoyed our conversation the o...\n",
       "4       E  'You're fired.|||That's another silly misconce...\n",
       "...   ...                                                ...\n",
       "8670    I  'https://www.youtube.com/watch?v=t8edHB_h908||...\n",
       "8671    E  'So...if this thread already exists someplace ...\n",
       "8672    I  'So many questions when i do these things.  I ...\n",
       "8673    I  'I am very conflicted right now when it comes ...\n",
       "8674    I  'It has been too long since I have been on per...\n",
       "\n",
       "[8675 rows x 2 columns]"
      ]
     },
     "execution_count": 12,
     "metadata": {},
     "output_type": "execute_result"
    }
   ],
   "source": [
    "ei"
   ]
  },
  {
   "cell_type": "code",
   "execution_count": 13,
   "metadata": {},
   "outputs": [],
   "source": [
    "# Removing Text with website link and expanding each user's posts\n",
    "# one row = one user having 50 different posts --> 1 Row with one post with corresponding MBTI Type\n",
    "intravert = []\n",
    "extravert = []\n",
    "for i in range(len(ei)):\n",
    "    if df['type'].iloc[i] == 'I':\n",
    "        split = df['posts'].iloc[i].split('|||')\n",
    "        for sentence in split:\n",
    "            if 'http' not in sentence:\n",
    "                intravert.append(sentence)\n",
    "                \n",
    "    else:\n",
    "        split = df['posts'].iloc[i].split('|||')\n",
    "        for sentence in split:\n",
    "            if 'http' not in sentence:\n",
    "                extravert.append(sentence)\n",
    "    \n",
    "I = pd.DataFrame(intravert, columns = ['Posts'])\n",
    "I['type'] = 'I'\n",
    "\n",
    "E = pd.DataFrame(extravert, columns = ['Posts'])\n",
    "E['type'] = 'E'\n",
    "\n",
    "eiei = pd.concat([I, E])"
   ]
  },
  {
   "cell_type": "code",
   "execution_count": 14,
   "metadata": {},
   "outputs": [
    {
     "data": {
      "text/html": [
       "<div>\n",
       "<style scoped>\n",
       "    .dataframe tbody tr th:only-of-type {\n",
       "        vertical-align: middle;\n",
       "    }\n",
       "\n",
       "    .dataframe tbody tr th {\n",
       "        vertical-align: top;\n",
       "    }\n",
       "\n",
       "    .dataframe thead th {\n",
       "        text-align: right;\n",
       "    }\n",
       "</style>\n",
       "<table border=\"1\" class=\"dataframe\">\n",
       "  <thead>\n",
       "    <tr style=\"text-align: right;\">\n",
       "      <th></th>\n",
       "      <th>Posts</th>\n",
       "      <th>type</th>\n",
       "    </tr>\n",
       "  </thead>\n",
       "  <tbody>\n",
       "    <tr>\n",
       "      <th>0</th>\n",
       "      <td>What has been the most life-changing experienc...</td>\n",
       "      <td>I</td>\n",
       "    </tr>\n",
       "    <tr>\n",
       "      <th>1</th>\n",
       "      <td>May the PerC Experience immerse you.</td>\n",
       "      <td>I</td>\n",
       "    </tr>\n",
       "    <tr>\n",
       "      <th>2</th>\n",
       "      <td>Hello ENFJ7. Sorry to hear of your distress. I...</td>\n",
       "      <td>I</td>\n",
       "    </tr>\n",
       "    <tr>\n",
       "      <th>3</th>\n",
       "      <td>Welcome and stuff.</td>\n",
       "      <td>I</td>\n",
       "    </tr>\n",
       "    <tr>\n",
       "      <th>4</th>\n",
       "      <td>Prozac, wellbrutin, at least thirty minutes of...</td>\n",
       "      <td>I</td>\n",
       "    </tr>\n",
       "    <tr>\n",
       "      <th>...</th>\n",
       "      <td>...</td>\n",
       "      <td>...</td>\n",
       "    </tr>\n",
       "    <tr>\n",
       "      <th>93085</th>\n",
       "      <td>I knit or do some other craft (as long as the ...</td>\n",
       "      <td>E</td>\n",
       "    </tr>\n",
       "    <tr>\n",
       "      <th>93086</th>\n",
       "      <td>[QUOTE=Kevinaswell;400994]When I say green and...</td>\n",
       "      <td>E</td>\n",
       "    </tr>\n",
       "    <tr>\n",
       "      <th>93087</th>\n",
       "      <td>That's true...sort of! hahah, it goes in cycle...</td>\n",
       "      <td>E</td>\n",
       "    </tr>\n",
       "    <tr>\n",
       "      <th>93088</th>\n",
       "      <td>Dear Anonymous(es),  You should hire me.  I'd ...</td>\n",
       "      <td>E</td>\n",
       "    </tr>\n",
       "    <tr>\n",
       "      <th>93089</th>\n",
       "      <td>My lovelife is nonexistant.   Recently (basica...</td>\n",
       "      <td>E</td>\n",
       "    </tr>\n",
       "  </tbody>\n",
       "</table>\n",
       "<p>397614 rows × 2 columns</p>\n",
       "</div>"
      ],
      "text/plain": [
       "                                                   Posts type\n",
       "0      What has been the most life-changing experienc...    I\n",
       "1                   May the PerC Experience immerse you.    I\n",
       "2      Hello ENFJ7. Sorry to hear of your distress. I...    I\n",
       "3                                     Welcome and stuff.    I\n",
       "4      Prozac, wellbrutin, at least thirty minutes of...    I\n",
       "...                                                  ...  ...\n",
       "93085  I knit or do some other craft (as long as the ...    E\n",
       "93086  [QUOTE=Kevinaswell;400994]When I say green and...    E\n",
       "93087  That's true...sort of! hahah, it goes in cycle...    E\n",
       "93088  Dear Anonymous(es),  You should hire me.  I'd ...    E\n",
       "93089  My lovelife is nonexistant.   Recently (basica...    E\n",
       "\n",
       "[397614 rows x 2 columns]"
      ]
     },
     "execution_count": 14,
     "metadata": {},
     "output_type": "execute_result"
    }
   ],
   "source": [
    "eiei"
   ]
  },
  {
   "cell_type": "code",
   "execution_count": 186,
   "metadata": {},
   "outputs": [],
   "source": [
    "# Function that Takes in the Text (in sentence) and remove unecessary portion from the text\n",
    "def text_preprocess(headlines):\n",
    "    #Tokenizing Each headlines \n",
    "    token = RegexpTokenizer(r'[a-zA-Z0-9]+')\n",
    "\n",
    "    tokenized = []\n",
    "    \n",
    "    #Tokenizing + Number Removal\n",
    "    for i in range(len(headlines)):\n",
    "        tokens = token.tokenize(headlines.iloc[i])\n",
    "        num_remove = [i for i in tokens if i.isalpha()]\n",
    "        tokenized.append(num_remove)\n",
    "        \n",
    "    #Stop words and Punctuation removal\n",
    "    st = stopwords.words('english')\n",
    "    punctuations = string.punctuation\n",
    "    processed = []\n",
    "    \n",
    "    for i in range(len(tokenized)):\n",
    "        words = [word for word in tokenized[i] if word.lower() not in st and word not in punctuations]\n",
    "        #Num Removal\n",
    "        new_text = \" \".join(words)\n",
    "        processed.append(new_text)\n",
    "    \n",
    "    #Stemming\n",
    "    stemmer = PorterStemmer()\n",
    "    stemmed = []\n",
    "    \n",
    "    for i in processed:\n",
    "        stem_word = stemmer.stem(i)\n",
    "        stemmed.append(stem_word)\n",
    "    \n",
    "    #Lemmatization\n",
    "    lemmatizer = WordNetLemmatizer()\n",
    "    lemmatized = []\n",
    "    \n",
    "    for i in stemmed:\n",
    "        lemmatize_word = lemmatizer.lemmatize(i)\n",
    "        lemmatized.append(lemmatize_word)\n",
    "      \n",
    "    return lemmatized"
   ]
  },
  {
   "cell_type": "code",
   "execution_count": 16,
   "metadata": {},
   "outputs": [],
   "source": [
    "preprocessed = text_preprocess(eiei['Posts'])\n",
    "eiei['Posts'] = preprocessed\n",
    "eiei.reset_index(inplace = True, drop=True)"
   ]
  },
  {
   "cell_type": "code",
   "execution_count": 19,
   "metadata": {},
   "outputs": [],
   "source": [
    "#Removing the sentence with less than or equal to 2 words (this will not provide inutitive information)\n",
    "drop = []\n",
    "for i in range(len(eiei['Posts'])):\n",
    "    if len(eiei['Posts'].iloc[i].split()) <= 2:\n",
    "        drop.append(i)\n",
    "\n",
    "eiei.drop(drop, inplace = True)"
   ]
  },
  {
   "cell_type": "code",
   "execution_count": 20,
   "metadata": {},
   "outputs": [],
   "source": [
    "eiei.reset_index(inplace=True, drop=True)"
   ]
  },
  {
   "cell_type": "code",
   "execution_count": 2,
   "metadata": {},
   "outputs": [],
   "source": [
    "#start here"
   ]
  },
  {
   "cell_type": "code",
   "execution_count": 187,
   "metadata": {},
   "outputs": [],
   "source": [
    "ei = pd.read_csv('EI.csv')\n",
    "ei.drop(columns=['Unnamed: 0'],inplace=True)"
   ]
  },
  {
   "cell_type": "code",
   "execution_count": 188,
   "metadata": {},
   "outputs": [
    {
     "name": "stdout",
     "output_type": "stream",
     "text": [
      "<class 'pandas.core.frame.DataFrame'>\n",
      "RangeIndex: 370832 entries, 0 to 370831\n",
      "Data columns (total 2 columns):\n",
      " #   Column  Non-Null Count   Dtype \n",
      "---  ------  --------------   ----- \n",
      " 0   Posts   370832 non-null  object\n",
      " 1   type    370832 non-null  object\n",
      "dtypes: object(2)\n",
      "memory usage: 5.7+ MB\n"
     ]
    }
   ],
   "source": [
    "# Preprocessed\n",
    "ei.info()"
   ]
  },
  {
   "cell_type": "code",
   "execution_count": 189,
   "metadata": {},
   "outputs": [],
   "source": [
    "# Since the data has been expanded: 50 posts each row -> 1 posts each row\n",
    "# Pyspark might be required to process the large amount of data, but here we will simply divide the dataset into 8 portions\n",
    "I = 284212\n",
    "E = 10827\n",
    "testing = pd.concat([ei.iloc[:35526], ei.iloc[I:I + E]])"
   ]
  },
  {
   "cell_type": "markdown",
   "metadata": {},
   "source": [
    "# Feature Extraction"
   ]
  },
  {
   "cell_type": "markdown",
   "metadata": {},
   "source": [
    "### Bag of Words - Count Vectorizer"
   ]
  },
  {
   "cell_type": "code",
   "execution_count": 190,
   "metadata": {},
   "outputs": [],
   "source": [
    "bow = CountVectorizer(min_df = 25, max_df = 0.8)\n",
    "bow_words = bow.fit_transform(testing['Posts'])\n",
    "bow_vectorized_data = pd.DataFrame(data = bow_words.toarray(), columns = bow.get_feature_names())"
   ]
  },
  {
   "cell_type": "code",
   "execution_count": 191,
   "metadata": {},
   "outputs": [
    {
     "data": {
      "text/html": [
       "<div>\n",
       "<style scoped>\n",
       "    .dataframe tbody tr th:only-of-type {\n",
       "        vertical-align: middle;\n",
       "    }\n",
       "\n",
       "    .dataframe tbody tr th {\n",
       "        vertical-align: top;\n",
       "    }\n",
       "\n",
       "    .dataframe thead th {\n",
       "        text-align: right;\n",
       "    }\n",
       "</style>\n",
       "<table border=\"1\" class=\"dataframe\">\n",
       "  <thead>\n",
       "    <tr style=\"text-align: right;\">\n",
       "      <th></th>\n",
       "      <th>ability</th>\n",
       "      <th>able</th>\n",
       "      <th>absolute</th>\n",
       "      <th>absolutely</th>\n",
       "      <th>abstract</th>\n",
       "      <th>absurd</th>\n",
       "      <th>abuse</th>\n",
       "      <th>accept</th>\n",
       "      <th>acceptable</th>\n",
       "      <th>accepted</th>\n",
       "      <th>...</th>\n",
       "      <th>yesterday</th>\n",
       "      <th>yet</th>\n",
       "      <th>yo</th>\n",
       "      <th>yoga</th>\n",
       "      <th>young</th>\n",
       "      <th>younger</th>\n",
       "      <th>youtube</th>\n",
       "      <th>yup</th>\n",
       "      <th>zero</th>\n",
       "      <th>zone</th>\n",
       "    </tr>\n",
       "  </thead>\n",
       "  <tbody>\n",
       "    <tr>\n",
       "      <th>0</th>\n",
       "      <td>0</td>\n",
       "      <td>0</td>\n",
       "      <td>0</td>\n",
       "      <td>0</td>\n",
       "      <td>0</td>\n",
       "      <td>0</td>\n",
       "      <td>0</td>\n",
       "      <td>0</td>\n",
       "      <td>0</td>\n",
       "      <td>0</td>\n",
       "      <td>...</td>\n",
       "      <td>0</td>\n",
       "      <td>0</td>\n",
       "      <td>0</td>\n",
       "      <td>0</td>\n",
       "      <td>0</td>\n",
       "      <td>0</td>\n",
       "      <td>0</td>\n",
       "      <td>0</td>\n",
       "      <td>0</td>\n",
       "      <td>0</td>\n",
       "    </tr>\n",
       "    <tr>\n",
       "      <th>1</th>\n",
       "      <td>0</td>\n",
       "      <td>0</td>\n",
       "      <td>0</td>\n",
       "      <td>0</td>\n",
       "      <td>0</td>\n",
       "      <td>0</td>\n",
       "      <td>0</td>\n",
       "      <td>0</td>\n",
       "      <td>0</td>\n",
       "      <td>0</td>\n",
       "      <td>...</td>\n",
       "      <td>0</td>\n",
       "      <td>0</td>\n",
       "      <td>0</td>\n",
       "      <td>0</td>\n",
       "      <td>0</td>\n",
       "      <td>0</td>\n",
       "      <td>0</td>\n",
       "      <td>0</td>\n",
       "      <td>0</td>\n",
       "      <td>0</td>\n",
       "    </tr>\n",
       "    <tr>\n",
       "      <th>2</th>\n",
       "      <td>0</td>\n",
       "      <td>0</td>\n",
       "      <td>0</td>\n",
       "      <td>0</td>\n",
       "      <td>0</td>\n",
       "      <td>0</td>\n",
       "      <td>0</td>\n",
       "      <td>0</td>\n",
       "      <td>0</td>\n",
       "      <td>0</td>\n",
       "      <td>...</td>\n",
       "      <td>0</td>\n",
       "      <td>0</td>\n",
       "      <td>0</td>\n",
       "      <td>0</td>\n",
       "      <td>0</td>\n",
       "      <td>0</td>\n",
       "      <td>0</td>\n",
       "      <td>0</td>\n",
       "      <td>0</td>\n",
       "      <td>0</td>\n",
       "    </tr>\n",
       "    <tr>\n",
       "      <th>3</th>\n",
       "      <td>0</td>\n",
       "      <td>0</td>\n",
       "      <td>0</td>\n",
       "      <td>0</td>\n",
       "      <td>0</td>\n",
       "      <td>0</td>\n",
       "      <td>0</td>\n",
       "      <td>0</td>\n",
       "      <td>0</td>\n",
       "      <td>0</td>\n",
       "      <td>...</td>\n",
       "      <td>0</td>\n",
       "      <td>0</td>\n",
       "      <td>0</td>\n",
       "      <td>0</td>\n",
       "      <td>0</td>\n",
       "      <td>0</td>\n",
       "      <td>0</td>\n",
       "      <td>0</td>\n",
       "      <td>0</td>\n",
       "      <td>0</td>\n",
       "    </tr>\n",
       "    <tr>\n",
       "      <th>4</th>\n",
       "      <td>0</td>\n",
       "      <td>0</td>\n",
       "      <td>0</td>\n",
       "      <td>0</td>\n",
       "      <td>0</td>\n",
       "      <td>0</td>\n",
       "      <td>0</td>\n",
       "      <td>0</td>\n",
       "      <td>0</td>\n",
       "      <td>0</td>\n",
       "      <td>...</td>\n",
       "      <td>0</td>\n",
       "      <td>0</td>\n",
       "      <td>0</td>\n",
       "      <td>0</td>\n",
       "      <td>0</td>\n",
       "      <td>0</td>\n",
       "      <td>0</td>\n",
       "      <td>0</td>\n",
       "      <td>0</td>\n",
       "      <td>0</td>\n",
       "    </tr>\n",
       "  </tbody>\n",
       "</table>\n",
       "<p>5 rows × 3099 columns</p>\n",
       "</div>"
      ],
      "text/plain": [
       "   ability  able  absolute  absolutely  abstract  absurd  abuse  accept  \\\n",
       "0        0     0         0           0         0       0      0       0   \n",
       "1        0     0         0           0         0       0      0       0   \n",
       "2        0     0         0           0         0       0      0       0   \n",
       "3        0     0         0           0         0       0      0       0   \n",
       "4        0     0         0           0         0       0      0       0   \n",
       "\n",
       "   acceptable  accepted  ...  yesterday  yet  yo  yoga  young  younger  \\\n",
       "0           0         0  ...          0    0   0     0      0        0   \n",
       "1           0         0  ...          0    0   0     0      0        0   \n",
       "2           0         0  ...          0    0   0     0      0        0   \n",
       "3           0         0  ...          0    0   0     0      0        0   \n",
       "4           0         0  ...          0    0   0     0      0        0   \n",
       "\n",
       "   youtube  yup  zero  zone  \n",
       "0        0    0     0     0  \n",
       "1        0    0     0     0  \n",
       "2        0    0     0     0  \n",
       "3        0    0     0     0  \n",
       "4        0    0     0     0  \n",
       "\n",
       "[5 rows x 3099 columns]"
      ]
     },
     "execution_count": 191,
     "metadata": {},
     "output_type": "execute_result"
    }
   ],
   "source": [
    "#visualizing how the vectorized sentences look like (3099 different columns/words)\n",
    "bow_vectorized_data.head()"
   ]
  },
  {
   "cell_type": "code",
   "execution_count": 194,
   "metadata": {},
   "outputs": [
    {
     "name": "stdout",
     "output_type": "stream",
     "text": [
      "1\n",
      "1\n",
      "1\n",
      "1\n"
     ]
    }
   ],
   "source": [
    "# Count Vectorizer counts the occurence of the word within a sentence and creates a sparse matrix\n",
    "for i in bow_vectorized_data.iloc[0]:\n",
    "    if i > 0:\n",
    "        print(i)"
   ]
  },
  {
   "cell_type": "markdown",
   "metadata": {},
   "source": [
    "### TF-IDF "
   ]
  },
  {
   "cell_type": "code",
   "execution_count": 192,
   "metadata": {},
   "outputs": [],
   "source": [
    "tfidf_vectorizer = TfidfVectorizer(min_df = 25, max_df = 0.8)\n",
    "tfidf_words = tfidf_vectorizer.fit_transform(testing[\"Posts\"])\n",
    "tfidf_vectorized_data = pd.DataFrame(\n",
    "    data=tfidf_words.toarray(), columns=tfidf_vectorizer.get_feature_names()\n",
    ")\n",
    "\n",
    "#min df = infrequent word ignore (if a certain word doesnt appear in more than 25 times)\n",
    "#max df = frequent word ignore (if a certain word appears in more than 80% of the document -> ignore)"
   ]
  },
  {
   "cell_type": "code",
   "execution_count": 193,
   "metadata": {},
   "outputs": [
    {
     "data": {
      "text/html": [
       "<div>\n",
       "<style scoped>\n",
       "    .dataframe tbody tr th:only-of-type {\n",
       "        vertical-align: middle;\n",
       "    }\n",
       "\n",
       "    .dataframe tbody tr th {\n",
       "        vertical-align: top;\n",
       "    }\n",
       "\n",
       "    .dataframe thead th {\n",
       "        text-align: right;\n",
       "    }\n",
       "</style>\n",
       "<table border=\"1\" class=\"dataframe\">\n",
       "  <thead>\n",
       "    <tr style=\"text-align: right;\">\n",
       "      <th></th>\n",
       "      <th>ability</th>\n",
       "      <th>able</th>\n",
       "      <th>absolute</th>\n",
       "      <th>absolutely</th>\n",
       "      <th>abstract</th>\n",
       "      <th>absurd</th>\n",
       "      <th>abuse</th>\n",
       "      <th>accept</th>\n",
       "      <th>acceptable</th>\n",
       "      <th>accepted</th>\n",
       "      <th>...</th>\n",
       "      <th>yesterday</th>\n",
       "      <th>yet</th>\n",
       "      <th>yo</th>\n",
       "      <th>yoga</th>\n",
       "      <th>young</th>\n",
       "      <th>younger</th>\n",
       "      <th>youtube</th>\n",
       "      <th>yup</th>\n",
       "      <th>zero</th>\n",
       "      <th>zone</th>\n",
       "    </tr>\n",
       "  </thead>\n",
       "  <tbody>\n",
       "    <tr>\n",
       "      <th>0</th>\n",
       "      <td>0.0</td>\n",
       "      <td>0.0</td>\n",
       "      <td>0.0</td>\n",
       "      <td>0.0</td>\n",
       "      <td>0.0</td>\n",
       "      <td>0.0</td>\n",
       "      <td>0.0</td>\n",
       "      <td>0.0</td>\n",
       "      <td>0.0</td>\n",
       "      <td>0.0</td>\n",
       "      <td>...</td>\n",
       "      <td>0.0</td>\n",
       "      <td>0.0</td>\n",
       "      <td>0.0</td>\n",
       "      <td>0.0</td>\n",
       "      <td>0.0</td>\n",
       "      <td>0.0</td>\n",
       "      <td>0.0</td>\n",
       "      <td>0.0</td>\n",
       "      <td>0.0</td>\n",
       "      <td>0.0</td>\n",
       "    </tr>\n",
       "    <tr>\n",
       "      <th>1</th>\n",
       "      <td>0.0</td>\n",
       "      <td>0.0</td>\n",
       "      <td>0.0</td>\n",
       "      <td>0.0</td>\n",
       "      <td>0.0</td>\n",
       "      <td>0.0</td>\n",
       "      <td>0.0</td>\n",
       "      <td>0.0</td>\n",
       "      <td>0.0</td>\n",
       "      <td>0.0</td>\n",
       "      <td>...</td>\n",
       "      <td>0.0</td>\n",
       "      <td>0.0</td>\n",
       "      <td>0.0</td>\n",
       "      <td>0.0</td>\n",
       "      <td>0.0</td>\n",
       "      <td>0.0</td>\n",
       "      <td>0.0</td>\n",
       "      <td>0.0</td>\n",
       "      <td>0.0</td>\n",
       "      <td>0.0</td>\n",
       "    </tr>\n",
       "    <tr>\n",
       "      <th>2</th>\n",
       "      <td>0.0</td>\n",
       "      <td>0.0</td>\n",
       "      <td>0.0</td>\n",
       "      <td>0.0</td>\n",
       "      <td>0.0</td>\n",
       "      <td>0.0</td>\n",
       "      <td>0.0</td>\n",
       "      <td>0.0</td>\n",
       "      <td>0.0</td>\n",
       "      <td>0.0</td>\n",
       "      <td>...</td>\n",
       "      <td>0.0</td>\n",
       "      <td>0.0</td>\n",
       "      <td>0.0</td>\n",
       "      <td>0.0</td>\n",
       "      <td>0.0</td>\n",
       "      <td>0.0</td>\n",
       "      <td>0.0</td>\n",
       "      <td>0.0</td>\n",
       "      <td>0.0</td>\n",
       "      <td>0.0</td>\n",
       "    </tr>\n",
       "    <tr>\n",
       "      <th>3</th>\n",
       "      <td>0.0</td>\n",
       "      <td>0.0</td>\n",
       "      <td>0.0</td>\n",
       "      <td>0.0</td>\n",
       "      <td>0.0</td>\n",
       "      <td>0.0</td>\n",
       "      <td>0.0</td>\n",
       "      <td>0.0</td>\n",
       "      <td>0.0</td>\n",
       "      <td>0.0</td>\n",
       "      <td>...</td>\n",
       "      <td>0.0</td>\n",
       "      <td>0.0</td>\n",
       "      <td>0.0</td>\n",
       "      <td>0.0</td>\n",
       "      <td>0.0</td>\n",
       "      <td>0.0</td>\n",
       "      <td>0.0</td>\n",
       "      <td>0.0</td>\n",
       "      <td>0.0</td>\n",
       "      <td>0.0</td>\n",
       "    </tr>\n",
       "    <tr>\n",
       "      <th>4</th>\n",
       "      <td>0.0</td>\n",
       "      <td>0.0</td>\n",
       "      <td>0.0</td>\n",
       "      <td>0.0</td>\n",
       "      <td>0.0</td>\n",
       "      <td>0.0</td>\n",
       "      <td>0.0</td>\n",
       "      <td>0.0</td>\n",
       "      <td>0.0</td>\n",
       "      <td>0.0</td>\n",
       "      <td>...</td>\n",
       "      <td>0.0</td>\n",
       "      <td>0.0</td>\n",
       "      <td>0.0</td>\n",
       "      <td>0.0</td>\n",
       "      <td>0.0</td>\n",
       "      <td>0.0</td>\n",
       "      <td>0.0</td>\n",
       "      <td>0.0</td>\n",
       "      <td>0.0</td>\n",
       "      <td>0.0</td>\n",
       "    </tr>\n",
       "  </tbody>\n",
       "</table>\n",
       "<p>5 rows × 3099 columns</p>\n",
       "</div>"
      ],
      "text/plain": [
       "   ability  able  absolute  absolutely  abstract  absurd  abuse  accept  \\\n",
       "0      0.0   0.0       0.0         0.0       0.0     0.0    0.0     0.0   \n",
       "1      0.0   0.0       0.0         0.0       0.0     0.0    0.0     0.0   \n",
       "2      0.0   0.0       0.0         0.0       0.0     0.0    0.0     0.0   \n",
       "3      0.0   0.0       0.0         0.0       0.0     0.0    0.0     0.0   \n",
       "4      0.0   0.0       0.0         0.0       0.0     0.0    0.0     0.0   \n",
       "\n",
       "   acceptable  accepted  ...  yesterday  yet   yo  yoga  young  younger  \\\n",
       "0         0.0       0.0  ...        0.0  0.0  0.0   0.0    0.0      0.0   \n",
       "1         0.0       0.0  ...        0.0  0.0  0.0   0.0    0.0      0.0   \n",
       "2         0.0       0.0  ...        0.0  0.0  0.0   0.0    0.0      0.0   \n",
       "3         0.0       0.0  ...        0.0  0.0  0.0   0.0    0.0      0.0   \n",
       "4         0.0       0.0  ...        0.0  0.0  0.0   0.0    0.0      0.0   \n",
       "\n",
       "   youtube  yup  zero  zone  \n",
       "0      0.0  0.0   0.0   0.0  \n",
       "1      0.0  0.0   0.0   0.0  \n",
       "2      0.0  0.0   0.0   0.0  \n",
       "3      0.0  0.0   0.0   0.0  \n",
       "4      0.0  0.0   0.0   0.0  \n",
       "\n",
       "[5 rows x 3099 columns]"
      ]
     },
     "execution_count": 193,
     "metadata": {},
     "output_type": "execute_result"
    }
   ],
   "source": [
    "tfidf_vectorized_data.head()"
   ]
  },
  {
   "cell_type": "code",
   "execution_count": 195,
   "metadata": {},
   "outputs": [
    {
     "name": "stdout",
     "output_type": "stream",
     "text": [
      "0.6115046370177148\n",
      "0.4536504412003629\n",
      "0.5388813059189429\n",
      "0.36037521312604637\n"
     ]
    }
   ],
   "source": [
    "# TF-IDF provides a score to the word base on their importance \n",
    "for i in tfidf_vectorized_data.iloc[0]:\n",
    "    if i > 0:\n",
    "        print(i)"
   ]
  },
  {
   "cell_type": "markdown",
   "metadata": {},
   "source": [
    "# Modeling"
   ]
  },
  {
   "cell_type": "code",
   "execution_count": 196,
   "metadata": {},
   "outputs": [],
   "source": [
    "from imblearn.pipeline import Pipeline \n",
    "from imblearn.under_sampling import RandomUnderSampler\n",
    "from sklearn.linear_model import LogisticRegression\n",
    "from sklearn.linear_model import LogisticRegressionCV\n",
    "from sklearn import preprocessing\n",
    "from sklearn.metrics import roc_auc_score, accuracy_score\n",
    "from imblearn.metrics import classification_report_imbalanced \n",
    "from sklearn.svm import LinearSVC\n",
    "from imblearn.over_sampling import SMOTE\n",
    "from sklearn.ensemble import RandomForestClassifier\n",
    "from sklearn.naive_bayes import MultinomialNB"
   ]
  },
  {
   "cell_type": "code",
   "execution_count": 201,
   "metadata": {},
   "outputs": [],
   "source": [
    "# Assign Dependent and Independent Variables\n",
    "X_tfidf = tfidf_vectorized_data\n",
    "le = preprocessing.LabelEncoder()\n",
    "y = le.fit_transform(testing['type'])"
   ]
  },
  {
   "cell_type": "code",
   "execution_count": 199,
   "metadata": {},
   "outputs": [],
   "source": [
    "# Function that evaluates the model based on the confusion matrix and accuracy score\n",
    "def evaluation(X, y, model):\n",
    "    \n",
    "    X_train, X_test, y_train, y_test = train_test_split(X, y, test_size=0.25, random_state=42)\n",
    "    \n",
    "    model.fit(X_train,y_train)\n",
    "    \n",
    "    y_pred = model.predict(X_test)\n",
    "    \n",
    "    print('Accuracy Score:{}'.format(accuracy_score(y_test, y_pred)) )\n",
    "    print(classification_report_imbalanced(y_test, y_pred))\n"
   ]
  },
  {
   "cell_type": "markdown",
   "metadata": {},
   "source": [
    "# TF-IDF"
   ]
  },
  {
   "cell_type": "code",
   "execution_count": 200,
   "metadata": {},
   "outputs": [],
   "source": [
    "# Logistic regression \n",
    "logistic_regression = Pipeline([('Undersample', RandomUnderSampler()), \n",
    "                                ('Logistic', LogisticRegression())])\n",
    "\n",
    "# Support Vector Machine - L1 Regularized\n",
    "svm_lasso = Pipeline([('Undersample', RandomUnderSampler()),\n",
    "                    ('LinearSVC', LinearSVC(penalty='l1', dual=False))])\n",
    "\n",
    "#Support Vector Machine - L2 Regularized\n",
    "svm_ridge = Pipeline([('Undersample', RandomUnderSampler()),\n",
    "                    ('LinearSVC', LinearSVC(penalty='l2', dual=False))])\n",
    "\n",
    "# Random Forest\n",
    "rf = Pipeline([('Undersample', RandomUnderSampler()),\n",
    "            ('RandomForest', RandomForestClassifier(n_estimators=100, max_depth=10))])\n",
    "\n",
    "# Naive Bayes\n",
    "nb = Pipeline([('Undersample', RandomUnderSampler()),\n",
    "            ('NaiveBayes', MultinomialNB())]) "
   ]
  },
  {
   "cell_type": "markdown",
   "metadata": {},
   "source": [
    "### Logistic Regrreion - TFIDF"
   ]
  },
  {
   "cell_type": "code",
   "execution_count": 202,
   "metadata": {},
   "outputs": [
    {
     "name": "stdout",
     "output_type": "stream",
     "text": [
      "Accuracy Score:0.5736474242816464\n",
      "                   pre       rec       spe        f1       geo       iba       sup\n",
      "\n",
      "          0       0.29      0.54      0.58      0.38      0.56      0.31      2754\n",
      "          1       0.80      0.58      0.54      0.68      0.56      0.32      8835\n",
      "\n",
      "avg / total       0.68      0.57      0.55      0.60      0.56      0.32     11589\n",
      "\n"
     ]
    }
   ],
   "source": [
    "evaluation(X_tfidf, y, logistic_regression)"
   ]
  },
  {
   "cell_type": "markdown",
   "metadata": {},
   "source": [
    "### SVM_Lasso Regularized - TFIDF"
   ]
  },
  {
   "cell_type": "code",
   "execution_count": 203,
   "metadata": {},
   "outputs": [
    {
     "name": "stdout",
     "output_type": "stream",
     "text": [
      "Accuracy Score:0.5598412287514022\n",
      "                   pre       rec       spe        f1       geo       iba       sup\n",
      "\n",
      "          0       0.28      0.54      0.57      0.37      0.55      0.31      2754\n",
      "          1       0.80      0.57      0.54      0.66      0.55      0.31      8835\n",
      "\n",
      "avg / total       0.68      0.56      0.55      0.59      0.55      0.31     11589\n",
      "\n"
     ]
    }
   ],
   "source": [
    "evaluation(X_tfidf,y, svm_lasso)"
   ]
  },
  {
   "cell_type": "markdown",
   "metadata": {},
   "source": [
    "### SVM_Ridge Regularized - TFIDF"
   ]
  },
  {
   "cell_type": "code",
   "execution_count": 204,
   "metadata": {},
   "outputs": [
    {
     "name": "stdout",
     "output_type": "stream",
     "text": [
      "Accuracy Score:0.5529381309862801\n",
      "                   pre       rec       spe        f1       geo       iba       sup\n",
      "\n",
      "          0       0.27      0.53      0.56      0.36      0.55      0.30      2754\n",
      "          1       0.79      0.56      0.53      0.66      0.55      0.30      8835\n",
      "\n",
      "avg / total       0.67      0.55      0.54      0.59      0.55      0.30     11589\n",
      "\n"
     ]
    }
   ],
   "source": [
    "evaluation(X_tfidf,y, svm_ridge)"
   ]
  },
  {
   "cell_type": "markdown",
   "metadata": {},
   "source": [
    "### Random Forest - TFIDf"
   ]
  },
  {
   "cell_type": "code",
   "execution_count": 205,
   "metadata": {},
   "outputs": [
    {
     "name": "stdout",
     "output_type": "stream",
     "text": [
      "Accuracy Score:0.6676158426093709\n",
      "                   pre       rec       spe        f1       geo       iba       sup\n",
      "\n",
      "          0       0.32      0.36      0.76      0.34      0.52      0.26      2754\n",
      "          1       0.79      0.76      0.36      0.78      0.52      0.28      8835\n",
      "\n",
      "avg / total       0.68      0.67      0.45      0.67      0.52      0.28     11589\n",
      "\n"
     ]
    }
   ],
   "source": [
    "evaluation(X_tfidf,y, rf)"
   ]
  },
  {
   "cell_type": "markdown",
   "metadata": {},
   "source": [
    "### Multinomial Naive Bayes - TFIDF"
   ]
  },
  {
   "cell_type": "code",
   "execution_count": 206,
   "metadata": {},
   "outputs": [
    {
     "name": "stdout",
     "output_type": "stream",
     "text": [
      "Accuracy Score:0.5663128829062042\n",
      "                   pre       rec       spe        f1       geo       iba       sup\n",
      "\n",
      "          0       0.29      0.56      0.57      0.38      0.56      0.32      2754\n",
      "          1       0.81      0.57      0.56      0.67      0.56      0.32      8835\n",
      "\n",
      "avg / total       0.68      0.57      0.56      0.60      0.56      0.32     11589\n",
      "\n"
     ]
    }
   ],
   "source": [
    "evaluation(X_tfidf,y, nb)"
   ]
  },
  {
   "cell_type": "markdown",
   "metadata": {},
   "source": [
    "### It seems like undersampling method doesnt provide enough information for class 0 (E) and therefore having very low Precision score \n",
    "<br>\n",
    " Random Forest Showed the Best performance among others"
   ]
  },
  {
   "cell_type": "markdown",
   "metadata": {},
   "source": [
    "## Count Vectorized"
   ]
  },
  {
   "cell_type": "code",
   "execution_count": 207,
   "metadata": {},
   "outputs": [],
   "source": [
    "# BOW vector\n",
    "X_bow = bow_vectorized_data"
   ]
  },
  {
   "cell_type": "code",
   "execution_count": 208,
   "metadata": {},
   "outputs": [
    {
     "name": "stdout",
     "output_type": "stream",
     "text": [
      "Accuracy Score:0.5520752437656399\n",
      "                   pre       rec       spe        f1       geo       iba       sup\n",
      "\n",
      "          0       0.28      0.55      0.55      0.37      0.55      0.30      2754\n",
      "          1       0.80      0.55      0.55      0.65      0.55      0.30      8835\n",
      "\n",
      "avg / total       0.67      0.55      0.55      0.59      0.55      0.30     11589\n",
      "\n"
     ]
    }
   ],
   "source": [
    "evaluation(X_bow, y, logistic_regression)"
   ]
  },
  {
   "cell_type": "code",
   "execution_count": 209,
   "metadata": {},
   "outputs": [
    {
     "name": "stdout",
     "output_type": "stream",
     "text": [
      "Accuracy Score:0.5452584347225817\n",
      "                   pre       rec       spe        f1       geo       iba       sup\n",
      "\n",
      "          0       0.28      0.56      0.54      0.37      0.55      0.30      2754\n",
      "          1       0.80      0.54      0.56      0.64      0.55      0.30      8835\n",
      "\n",
      "avg / total       0.67      0.55      0.56      0.58      0.55      0.30     11589\n",
      "\n"
     ]
    }
   ],
   "source": [
    "evaluation(X_bow, y, svm_lasso)"
   ]
  },
  {
   "cell_type": "code",
   "execution_count": 210,
   "metadata": {},
   "outputs": [
    {
     "name": "stdout",
     "output_type": "stream",
     "text": [
      "Accuracy Score:0.5466390542756062\n",
      "                   pre       rec       spe        f1       geo       iba       sup\n",
      "\n",
      "          0       0.27      0.54      0.55      0.36      0.54      0.29      2754\n",
      "          1       0.79      0.55      0.54      0.65      0.54      0.30      8835\n",
      "\n",
      "avg / total       0.67      0.55      0.54      0.58      0.54      0.30     11589\n",
      "\n"
     ]
    }
   ],
   "source": [
    "evaluation(X_bow, y, svm_ridge)"
   ]
  },
  {
   "cell_type": "code",
   "execution_count": 211,
   "metadata": {},
   "outputs": [
    {
     "name": "stdout",
     "output_type": "stream",
     "text": [
      "Accuracy Score:0.6532056260246786\n",
      "                   pre       rec       spe        f1       geo       iba       sup\n",
      "\n",
      "          0       0.31      0.38      0.74      0.34      0.53      0.27      2754\n",
      "          1       0.79      0.74      0.38      0.76      0.53      0.29      8835\n",
      "\n",
      "avg / total       0.68      0.65      0.46      0.66      0.53      0.28     11589\n",
      "\n"
     ]
    }
   ],
   "source": [
    "evaluation(X_bow, y, rf)"
   ]
  },
  {
   "cell_type": "code",
   "execution_count": 212,
   "metadata": {},
   "outputs": [
    {
     "name": "stdout",
     "output_type": "stream",
     "text": [
      "Accuracy Score:0.5651911295193718\n",
      "                   pre       rec       spe        f1       geo       iba       sup\n",
      "\n",
      "          0       0.29      0.56      0.57      0.38      0.56      0.32      2754\n",
      "          1       0.81      0.57      0.56      0.67      0.56      0.32      8835\n",
      "\n",
      "avg / total       0.68      0.57      0.56      0.60      0.56      0.32     11589\n",
      "\n"
     ]
    }
   ],
   "source": [
    "evaluation(X_bow, y, nb)"
   ]
  },
  {
   "cell_type": "markdown",
   "metadata": {},
   "source": [
    "### Count Vectorize method also doesnt have a significan performance compare to TFIDF"
   ]
  },
  {
   "cell_type": "markdown",
   "metadata": {},
   "source": [
    "### Oversampling Method - SMOTE"
   ]
  },
  {
   "cell_type": "code",
   "execution_count": 240,
   "metadata": {},
   "outputs": [],
   "source": [
    "# Oversampling TF IDF\n",
    "oversample = SMOTE()\n",
    "X_os, y_os = oversample.fit_resample(X_tfidf, y)"
   ]
  },
  {
   "cell_type": "code",
   "execution_count": 241,
   "metadata": {},
   "outputs": [
    {
     "name": "stdout",
     "output_type": "stream",
     "text": [
      "Accuracy Score:0.7306761245285144\n",
      "                   pre       rec       spe        f1       geo       iba       sup\n",
      "\n",
      "          0       0.74      0.71      0.75      0.73      0.73      0.53      8864\n",
      "          1       0.72      0.75      0.71      0.74      0.73      0.54      8899\n",
      "\n",
      "avg / total       0.73      0.73      0.73      0.73      0.73      0.53     17763\n",
      "\n"
     ]
    }
   ],
   "source": [
    "lr = LogisticRegression()\n",
    "evaluation(X_os, y_os, lr)"
   ]
  },
  {
   "cell_type": "code",
   "execution_count": 242,
   "metadata": {},
   "outputs": [
    {
     "name": "stdout",
     "output_type": "stream",
     "text": [
      "Accuracy Score:0.729550188594269\n",
      "                   pre       rec       spe        f1       geo       iba       sup\n",
      "\n",
      "          0       0.73      0.72      0.74      0.73      0.73      0.53      8864\n",
      "          1       0.72      0.74      0.72      0.73      0.73      0.53      8899\n",
      "\n",
      "avg / total       0.73      0.73      0.73      0.73      0.73      0.53     17763\n",
      "\n"
     ]
    }
   ],
   "source": [
    "l1 = LinearSVC(penalty='l1',dual=False)\n",
    "evaluation(X_os, y_os, l1)"
   ]
  },
  {
   "cell_type": "code",
   "execution_count": 243,
   "metadata": {},
   "outputs": [
    {
     "name": "stdout",
     "output_type": "stream",
     "text": [
      "Accuracy Score:0.7305635309350897\n",
      "                   pre       rec       spe        f1       geo       iba       sup\n",
      "\n",
      "          0       0.74      0.71      0.75      0.73      0.73      0.53      8864\n",
      "          1       0.72      0.75      0.71      0.74      0.73      0.54      8899\n",
      "\n",
      "avg / total       0.73      0.73      0.73      0.73      0.73      0.53     17763\n",
      "\n"
     ]
    }
   ],
   "source": [
    "l2 = LinearSVC(penalty='l2',dual=False)\n",
    "evaluation(X_os, y_os, svm_ridge)"
   ]
  },
  {
   "cell_type": "code",
   "execution_count": 244,
   "metadata": {},
   "outputs": [
    {
     "name": "stdout",
     "output_type": "stream",
     "text": [
      "Accuracy Score:0.6919439283904746\n",
      "                   pre       rec       spe        f1       geo       iba       sup\n",
      "\n",
      "          0       0.68      0.73      0.65      0.70      0.69      0.48      8864\n",
      "          1       0.71      0.65      0.73      0.68      0.69      0.47      8899\n",
      "\n",
      "avg / total       0.69      0.69      0.69      0.69      0.69      0.48     17763\n",
      "\n"
     ]
    }
   ],
   "source": [
    "rf = RandomForestClassifier(n_estimators=100, max_depth=10)\n",
    "evaluation(X_os, y_os, rf)"
   ]
  },
  {
   "cell_type": "code",
   "execution_count": 245,
   "metadata": {},
   "outputs": [
    {
     "name": "stdout",
     "output_type": "stream",
     "text": [
      "Accuracy Score:0.6133536001801497\n",
      "                   pre       rec       spe        f1       geo       iba       sup\n",
      "\n",
      "          0       0.61      0.60      0.62      0.61      0.61      0.38      8864\n",
      "          1       0.61      0.62      0.60      0.62      0.61      0.38      8899\n",
      "\n",
      "avg / total       0.61      0.61      0.61      0.61      0.61      0.38     17763\n",
      "\n"
     ]
    }
   ],
   "source": [
    "naive = MultinomialNB()\n",
    "evaluation(X_os, y_os, naive)"
   ]
  },
  {
   "cell_type": "markdown",
   "metadata": {},
   "source": [
    "### Oversampling Method shows better performance for all the models and the precision score for class 0 (E) has been significantly improved\n",
    "Here, Linear Classifier models (Logistic and SVM) had the best performance"
   ]
  },
  {
   "cell_type": "markdown",
   "metadata": {},
   "source": [
    "## Word Embedding - Word2vec Mean"
   ]
  },
  {
   "cell_type": "code",
   "execution_count": 220,
   "metadata": {},
   "outputs": [],
   "source": [
    "#Importing Pretrained Word2Vec\n",
    "w2v = KeyedVectors.load_word2vec_format('https://s3.amazonaws.com/dl4j-distribution/GoogleNews-vectors-negative300.bin.gz',binary=True,limit=100000)"
   ]
  },
  {
   "cell_type": "code",
   "execution_count": 222,
   "metadata": {},
   "outputs": [
    {
     "data": {
      "text/plain": [
       "(300,)"
      ]
     },
     "execution_count": 222,
     "metadata": {},
     "output_type": "execute_result"
    }
   ],
   "source": [
    "# 300 Dimensional\n",
    "w2v['dog'].shape"
   ]
  },
  {
   "cell_type": "markdown",
   "metadata": {},
   "source": [
    "Because Word2Vec is designed for each word within n-th dimensional space, each sentence with k-words\n",
    "will have a matrix of 300 x k (Rows represents the Dimension of Word2Vec for each word) Columns represents the total number of words for a given document\n",
    "<br>\n",
    "Since the typical ML models doesnt take input as (m x n x l) we need to convert the multidimensional word vector into sentnence vector, one way is to average all the values within a sentence (ex. 5 word sentence having 300 dim vectors for each word -> element wise addition then element wise division)"
   ]
  },
  {
   "cell_type": "code",
   "execution_count": 223,
   "metadata": {},
   "outputs": [],
   "source": [
    "# Function that averages each sentence's word vector\n",
    "def w2v_mean(sentence):\n",
    "    words=[]\n",
    "    \n",
    "    for i in sentence:\n",
    "        try:\n",
    "            word = w2v[i]\n",
    "            words.append(word)\n",
    "        # If a certain word is not presetn within a Word2Vec, replace with vector with the same dimension but 0s\n",
    "        except:\n",
    "            words.append(np.zeros(300,))\n",
    "    mean = np.mean(words,axis=0)\n",
    "    \n",
    "    return mean"
   ]
  },
  {
   "cell_type": "code",
   "execution_count": 224,
   "metadata": {},
   "outputs": [],
   "source": [
    "# Tokenizing each sentence - Testing purpose\n",
    "t = testing['Posts'].apply(lambda x: x.split())\n",
    "t.reset_index(inplace=True, drop=True)"
   ]
  },
  {
   "cell_type": "code",
   "execution_count": 226,
   "metadata": {},
   "outputs": [],
   "source": [
    "# For every sentences within a dataset perform that average function\n",
    "word2vec_mean = []\n",
    "for i in t:\n",
    "    try:\n",
    "        word2vec_mean.append(w2v_mean(i))\n",
    "    except:\n",
    "        break"
   ]
  },
  {
   "cell_type": "code",
   "execution_count": 227,
   "metadata": {},
   "outputs": [
    {
     "data": {
      "text/html": [
       "<div>\n",
       "<style scoped>\n",
       "    .dataframe tbody tr th:only-of-type {\n",
       "        vertical-align: middle;\n",
       "    }\n",
       "\n",
       "    .dataframe tbody tr th {\n",
       "        vertical-align: top;\n",
       "    }\n",
       "\n",
       "    .dataframe thead th {\n",
       "        text-align: right;\n",
       "    }\n",
       "</style>\n",
       "<table border=\"1\" class=\"dataframe\">\n",
       "  <thead>\n",
       "    <tr style=\"text-align: right;\">\n",
       "      <th></th>\n",
       "      <th>0</th>\n",
       "      <th>1</th>\n",
       "      <th>2</th>\n",
       "      <th>3</th>\n",
       "      <th>4</th>\n",
       "      <th>5</th>\n",
       "      <th>6</th>\n",
       "      <th>7</th>\n",
       "      <th>8</th>\n",
       "      <th>9</th>\n",
       "      <th>...</th>\n",
       "      <th>290</th>\n",
       "      <th>291</th>\n",
       "      <th>292</th>\n",
       "      <th>293</th>\n",
       "      <th>294</th>\n",
       "      <th>295</th>\n",
       "      <th>296</th>\n",
       "      <th>297</th>\n",
       "      <th>298</th>\n",
       "      <th>299</th>\n",
       "    </tr>\n",
       "  </thead>\n",
       "  <tbody>\n",
       "    <tr>\n",
       "      <th>0</th>\n",
       "      <td>-0.051453</td>\n",
       "      <td>0.030640</td>\n",
       "      <td>-0.048828</td>\n",
       "      <td>0.033447</td>\n",
       "      <td>0.008301</td>\n",
       "      <td>0.035919</td>\n",
       "      <td>-0.050171</td>\n",
       "      <td>-0.056030</td>\n",
       "      <td>0.053749</td>\n",
       "      <td>0.012573</td>\n",
       "      <td>...</td>\n",
       "      <td>-0.186279</td>\n",
       "      <td>0.048126</td>\n",
       "      <td>-0.127289</td>\n",
       "      <td>-0.037422</td>\n",
       "      <td>-0.081116</td>\n",
       "      <td>0.069092</td>\n",
       "      <td>0.109131</td>\n",
       "      <td>0.027954</td>\n",
       "      <td>-0.014259</td>\n",
       "      <td>0.051376</td>\n",
       "    </tr>\n",
       "    <tr>\n",
       "      <th>1</th>\n",
       "      <td>0.024414</td>\n",
       "      <td>-0.009064</td>\n",
       "      <td>0.002319</td>\n",
       "      <td>0.040771</td>\n",
       "      <td>-0.029541</td>\n",
       "      <td>0.036591</td>\n",
       "      <td>0.012817</td>\n",
       "      <td>-0.056183</td>\n",
       "      <td>0.034698</td>\n",
       "      <td>-0.017212</td>\n",
       "      <td>...</td>\n",
       "      <td>-0.094849</td>\n",
       "      <td>0.015869</td>\n",
       "      <td>0.008881</td>\n",
       "      <td>0.028158</td>\n",
       "      <td>0.013916</td>\n",
       "      <td>0.055420</td>\n",
       "      <td>0.060547</td>\n",
       "      <td>-0.062378</td>\n",
       "      <td>-0.003502</td>\n",
       "      <td>0.011398</td>\n",
       "    </tr>\n",
       "    <tr>\n",
       "      <th>2</th>\n",
       "      <td>0.065449</td>\n",
       "      <td>0.060204</td>\n",
       "      <td>0.000253</td>\n",
       "      <td>0.112965</td>\n",
       "      <td>-0.076793</td>\n",
       "      <td>-0.004001</td>\n",
       "      <td>0.056985</td>\n",
       "      <td>-0.107077</td>\n",
       "      <td>0.157815</td>\n",
       "      <td>0.089499</td>\n",
       "      <td>...</td>\n",
       "      <td>-0.031616</td>\n",
       "      <td>0.037964</td>\n",
       "      <td>-0.101028</td>\n",
       "      <td>-0.083056</td>\n",
       "      <td>-0.052663</td>\n",
       "      <td>-0.010561</td>\n",
       "      <td>0.003953</td>\n",
       "      <td>0.016550</td>\n",
       "      <td>-0.011679</td>\n",
       "      <td>-0.023034</td>\n",
       "    </tr>\n",
       "    <tr>\n",
       "      <th>3</th>\n",
       "      <td>-0.001700</td>\n",
       "      <td>0.026698</td>\n",
       "      <td>-0.015302</td>\n",
       "      <td>0.135875</td>\n",
       "      <td>-0.051105</td>\n",
       "      <td>-0.044892</td>\n",
       "      <td>0.036547</td>\n",
       "      <td>0.002686</td>\n",
       "      <td>0.058603</td>\n",
       "      <td>0.046406</td>\n",
       "      <td>...</td>\n",
       "      <td>-0.083194</td>\n",
       "      <td>0.057546</td>\n",
       "      <td>-0.020444</td>\n",
       "      <td>0.001233</td>\n",
       "      <td>-0.005906</td>\n",
       "      <td>-0.004411</td>\n",
       "      <td>0.033447</td>\n",
       "      <td>0.021855</td>\n",
       "      <td>-0.006804</td>\n",
       "      <td>0.041594</td>\n",
       "    </tr>\n",
       "    <tr>\n",
       "      <th>4</th>\n",
       "      <td>0.057475</td>\n",
       "      <td>0.042348</td>\n",
       "      <td>0.008135</td>\n",
       "      <td>0.163468</td>\n",
       "      <td>-0.086201</td>\n",
       "      <td>-0.048431</td>\n",
       "      <td>0.136312</td>\n",
       "      <td>-0.050812</td>\n",
       "      <td>0.064033</td>\n",
       "      <td>0.021683</td>\n",
       "      <td>...</td>\n",
       "      <td>-0.097992</td>\n",
       "      <td>0.051473</td>\n",
       "      <td>-0.018185</td>\n",
       "      <td>-0.013090</td>\n",
       "      <td>-0.026467</td>\n",
       "      <td>0.001295</td>\n",
       "      <td>0.057375</td>\n",
       "      <td>-0.077337</td>\n",
       "      <td>-0.000253</td>\n",
       "      <td>-0.032067</td>\n",
       "    </tr>\n",
       "  </tbody>\n",
       "</table>\n",
       "<p>5 rows × 300 columns</p>\n",
       "</div>"
      ],
      "text/plain": [
       "        0         1         2         3         4         5         6    \\\n",
       "0 -0.051453  0.030640 -0.048828  0.033447  0.008301  0.035919 -0.050171   \n",
       "1  0.024414 -0.009064  0.002319  0.040771 -0.029541  0.036591  0.012817   \n",
       "2  0.065449  0.060204  0.000253  0.112965 -0.076793 -0.004001  0.056985   \n",
       "3 -0.001700  0.026698 -0.015302  0.135875 -0.051105 -0.044892  0.036547   \n",
       "4  0.057475  0.042348  0.008135  0.163468 -0.086201 -0.048431  0.136312   \n",
       "\n",
       "        7         8         9    ...       290       291       292       293  \\\n",
       "0 -0.056030  0.053749  0.012573  ... -0.186279  0.048126 -0.127289 -0.037422   \n",
       "1 -0.056183  0.034698 -0.017212  ... -0.094849  0.015869  0.008881  0.028158   \n",
       "2 -0.107077  0.157815  0.089499  ... -0.031616  0.037964 -0.101028 -0.083056   \n",
       "3  0.002686  0.058603  0.046406  ... -0.083194  0.057546 -0.020444  0.001233   \n",
       "4 -0.050812  0.064033  0.021683  ... -0.097992  0.051473 -0.018185 -0.013090   \n",
       "\n",
       "        294       295       296       297       298       299  \n",
       "0 -0.081116  0.069092  0.109131  0.027954 -0.014259  0.051376  \n",
       "1  0.013916  0.055420  0.060547 -0.062378 -0.003502  0.011398  \n",
       "2 -0.052663 -0.010561  0.003953  0.016550 -0.011679 -0.023034  \n",
       "3 -0.005906 -0.004411  0.033447  0.021855 -0.006804  0.041594  \n",
       "4 -0.026467  0.001295  0.057375 -0.077337 -0.000253 -0.032067  \n",
       "\n",
       "[5 rows x 300 columns]"
      ]
     },
     "execution_count": 227,
     "metadata": {},
     "output_type": "execute_result"
    }
   ],
   "source": [
    "embedded_sentence = pd.DataFrame(word2vec_mean)\n",
    "# Each sentence is in 300 Dimension (Same as Word2Vec Pretraiend model)\n",
    "embedded_sentence.head()"
   ]
  },
  {
   "cell_type": "code",
   "execution_count": 61,
   "metadata": {},
   "outputs": [],
   "source": [
    "# oversampling\n",
    "oversample = SMOTE()\n",
    "X_os, y_os = oversample.fit_resample(embedded_sentence, y)"
   ]
  },
  {
   "cell_type": "code",
   "execution_count": 58,
   "metadata": {},
   "outputs": [
    {
     "name": "stdout",
     "output_type": "stream",
     "text": [
      "Accuracy Score:0.5311933730261454\n",
      "                   pre       rec       spe        f1       geo       iba       sup\n",
      "\n",
      "          0       0.27      0.55      0.53      0.36      0.54      0.29      2754\n",
      "          1       0.79      0.53      0.55      0.63      0.54      0.29      8835\n",
      "\n",
      "avg / total       0.66      0.53      0.54      0.57      0.54      0.29     11589\n",
      "\n"
     ]
    }
   ],
   "source": [
    "evaluation(embedded_sentence, y, logistic_regression)"
   ]
  },
  {
   "cell_type": "code",
   "execution_count": 63,
   "metadata": {},
   "outputs": [
    {
     "name": "stdout",
     "output_type": "stream",
     "text": [
      "Accuracy Score:0.5953386252322243\n",
      "                   pre       rec       spe        f1       geo       iba       sup\n",
      "\n",
      "          0       0.59      0.62      0.57      0.60      0.60      0.36      8864\n",
      "          1       0.60      0.57      0.62      0.59      0.60      0.35      8899\n",
      "\n",
      "avg / total       0.60      0.60      0.60      0.60      0.60      0.35     17763\n",
      "\n"
     ]
    }
   ],
   "source": [
    "evaluation(X_os, y_os, logistic_regression)"
   ]
  },
  {
   "cell_type": "markdown",
   "metadata": {},
   "source": [
    "## TFIDF - Word2Vec Hybrid"
   ]
  },
  {
   "cell_type": "markdown",
   "metadata": {},
   "source": [
    "Another Novel method for transforming Word Vectors in multidimension to a sentence vector is to perform TF-IDF Word2Vec Hybrid approach.\n",
    "<br>\n",
    "The logic here is to multiply the TFIDF score identified for each word with the 300dim embedding vector and get the mean"
   ]
  },
  {
   "cell_type": "code",
   "execution_count": 228,
   "metadata": {},
   "outputs": [],
   "source": [
    "#Extracting the TFIDF score from existing data \n",
    "def w2v_tfidf(t, i):\n",
    "    tfidf_score = []\n",
    "    for word in t[i]:\n",
    "            if word in tfidf_vectorized_data.columns:\n",
    "                score = tfidf_vectorized_data.iloc[i][word]\n",
    "                tfidf_score.append(score)\n",
    "            else:\n",
    "                tfidf_score.append(1)\n",
    "                \n",
    "            \n",
    "    return tfidf_score"
   ]
  },
  {
   "cell_type": "code",
   "execution_count": 229,
   "metadata": {},
   "outputs": [],
   "source": [
    "# Inserting the found value into a list (For the Entire dataset)\n",
    "tfidf_w2v = []\n",
    "for i in range(len(t)):\n",
    "    try:\n",
    "        tfidf_w2v.append(w2v_tfidf(t,i))\n",
    "    except:\n",
    "        break"
   ]
  },
  {
   "cell_type": "code",
   "execution_count": 230,
   "metadata": {},
   "outputs": [
    {
     "data": {
      "text/plain": [
       "[0.23720098635613482,\n",
       " 0.26584570822097026,\n",
       " 0.326849302605578,\n",
       " 0.4596548985978448,\n",
       " 0.23369445516197762,\n",
       " 0.33115997467658087,\n",
       " 0.2912605569526351,\n",
       " 0.3371869277762571,\n",
       " 0.4383387908600179]"
      ]
     },
     "execution_count": 230,
     "metadata": {},
     "output_type": "execute_result"
    }
   ],
   "source": [
    "#Example of tfidf score for doc number 35000\n",
    "tfidf_w2v[35000]"
   ]
  },
  {
   "cell_type": "code",
   "execution_count": 231,
   "metadata": {},
   "outputs": [],
   "source": [
    "# Getting the Embedding representation of each sentence\n",
    "def get_embed_vect(t,i):\n",
    "    embed_vec = []\n",
    "    for word in t[i]:\n",
    "        try:\n",
    "            embed_vec.append(w2v[i])\n",
    "        except:\n",
    "            embed_vec.append(np.ones(300,))\n",
    "    return embed_vec"
   ]
  },
  {
   "cell_type": "code",
   "execution_count": 232,
   "metadata": {},
   "outputs": [
    {
     "data": {
      "text/plain": [
       "(4, 300)"
      ]
     },
     "execution_count": 232,
     "metadata": {},
     "output_type": "execute_result"
    }
   ],
   "source": [
    "#The first Sentnece having 4 words in total will have 4 rows with 300 dimensions each \n",
    "np.array(get_embed_vect(t, 0)).shape"
   ]
  },
  {
   "cell_type": "code",
   "execution_count": 233,
   "metadata": {},
   "outputs": [],
   "source": [
    "# Retrieve Embedding vector for every sample \n",
    "embedding = []\n",
    "for i in range(len(t)):\n",
    "    try:\n",
    "        embedding.append(get_embed_vect(t,i))\n",
    "    except:\n",
    "        break"
   ]
  },
  {
   "cell_type": "code",
   "execution_count": 234,
   "metadata": {
    "scrolled": true
   },
   "outputs": [
    {
     "name": "stdout",
     "output_type": "stream",
     "text": [
      "Embedding Vector Shape:(300, 17)\n",
      "TFIDF Score Vector Shape(17,)\n"
     ]
    }
   ],
   "source": [
    "# vector Shape\n",
    "print('Embedding Vector Shape:{}'.format(np.array(embedding[2]).T.shape))\n",
    "print('TFIDF Score Vector Shape{}'.format(np.array(tfidf_w2v[2]).shape))"
   ]
  },
  {
   "cell_type": "code",
   "execution_count": 235,
   "metadata": {},
   "outputs": [
    {
     "data": {
      "text/html": [
       "<div>\n",
       "<style scoped>\n",
       "    .dataframe tbody tr th:only-of-type {\n",
       "        vertical-align: middle;\n",
       "    }\n",
       "\n",
       "    .dataframe tbody tr th {\n",
       "        vertical-align: top;\n",
       "    }\n",
       "\n",
       "    .dataframe thead tr th {\n",
       "        text-align: left;\n",
       "    }\n",
       "</style>\n",
       "<table border=\"1\" class=\"dataframe\">\n",
       "  <thead>\n",
       "    <tr>\n",
       "      <th></th>\n",
       "      <th>get</th>\n",
       "      <th>high</th>\n",
       "      <th>backyard</th>\n",
       "      <th>roast</th>\n",
       "      <th>eat</th>\n",
       "      <th>marshmellows</th>\n",
       "      <th>backyard</th>\n",
       "      <th>conversing</th>\n",
       "      <th>something</th>\n",
       "      <th>intellectual</th>\n",
       "      <th>followed</th>\n",
       "      <th>massages</th>\n",
       "      <th>kiss</th>\n",
       "    </tr>\n",
       "  </thead>\n",
       "  <tbody>\n",
       "    <tr>\n",
       "      <th>0</th>\n",
       "      <td>0.018247</td>\n",
       "      <td>0.026826</td>\n",
       "      <td>0.084961</td>\n",
       "      <td>0.084961</td>\n",
       "      <td>0.033658</td>\n",
       "      <td>0.084961</td>\n",
       "      <td>0.084961</td>\n",
       "      <td>0.084961</td>\n",
       "      <td>0.020901</td>\n",
       "      <td>0.037860</td>\n",
       "      <td>0.039013</td>\n",
       "      <td>0.084961</td>\n",
       "      <td>0.040506</td>\n",
       "    </tr>\n",
       "    <tr>\n",
       "      <th>1</th>\n",
       "      <td>-0.020450</td>\n",
       "      <td>-0.030064</td>\n",
       "      <td>-0.095215</td>\n",
       "      <td>-0.095215</td>\n",
       "      <td>-0.037720</td>\n",
       "      <td>-0.095215</td>\n",
       "      <td>-0.095215</td>\n",
       "      <td>-0.095215</td>\n",
       "      <td>-0.023423</td>\n",
       "      <td>-0.042429</td>\n",
       "      <td>-0.043721</td>\n",
       "      <td>-0.095215</td>\n",
       "      <td>-0.045394</td>\n",
       "    </tr>\n",
       "    <tr>\n",
       "      <th>2</th>\n",
       "      <td>0.025588</td>\n",
       "      <td>0.037618</td>\n",
       "      <td>0.119141</td>\n",
       "      <td>0.119141</td>\n",
       "      <td>0.047198</td>\n",
       "      <td>0.119141</td>\n",
       "      <td>0.119141</td>\n",
       "      <td>0.119141</td>\n",
       "      <td>0.029309</td>\n",
       "      <td>0.053091</td>\n",
       "      <td>0.054708</td>\n",
       "      <td>0.119141</td>\n",
       "      <td>0.056801</td>\n",
       "    </tr>\n",
       "    <tr>\n",
       "      <th>3</th>\n",
       "      <td>0.024015</td>\n",
       "      <td>0.035306</td>\n",
       "      <td>0.111816</td>\n",
       "      <td>0.111816</td>\n",
       "      <td>0.044296</td>\n",
       "      <td>0.111816</td>\n",
       "      <td>0.111816</td>\n",
       "      <td>0.111816</td>\n",
       "      <td>0.027508</td>\n",
       "      <td>0.049827</td>\n",
       "      <td>0.051344</td>\n",
       "      <td>0.111816</td>\n",
       "      <td>0.053309</td>\n",
       "    </tr>\n",
       "    <tr>\n",
       "      <th>4</th>\n",
       "      <td>-0.023910</td>\n",
       "      <td>-0.035152</td>\n",
       "      <td>-0.111328</td>\n",
       "      <td>-0.111328</td>\n",
       "      <td>-0.044103</td>\n",
       "      <td>-0.111328</td>\n",
       "      <td>-0.111328</td>\n",
       "      <td>-0.111328</td>\n",
       "      <td>-0.027387</td>\n",
       "      <td>-0.049610</td>\n",
       "      <td>-0.051120</td>\n",
       "      <td>-0.111328</td>\n",
       "      <td>-0.053076</td>\n",
       "    </tr>\n",
       "    <tr>\n",
       "      <th>...</th>\n",
       "      <td>...</td>\n",
       "      <td>...</td>\n",
       "      <td>...</td>\n",
       "      <td>...</td>\n",
       "      <td>...</td>\n",
       "      <td>...</td>\n",
       "      <td>...</td>\n",
       "      <td>...</td>\n",
       "      <td>...</td>\n",
       "      <td>...</td>\n",
       "      <td>...</td>\n",
       "      <td>...</td>\n",
       "      <td>...</td>\n",
       "    </tr>\n",
       "    <tr>\n",
       "      <th>295</th>\n",
       "      <td>0.006869</td>\n",
       "      <td>0.010098</td>\n",
       "      <td>0.031982</td>\n",
       "      <td>0.031982</td>\n",
       "      <td>0.012670</td>\n",
       "      <td>0.031982</td>\n",
       "      <td>0.031982</td>\n",
       "      <td>0.031982</td>\n",
       "      <td>0.007868</td>\n",
       "      <td>0.014252</td>\n",
       "      <td>0.014686</td>\n",
       "      <td>0.031982</td>\n",
       "      <td>0.015248</td>\n",
       "    </tr>\n",
       "    <tr>\n",
       "      <th>296</th>\n",
       "      <td>0.013633</td>\n",
       "      <td>0.020043</td>\n",
       "      <td>0.063477</td>\n",
       "      <td>0.063477</td>\n",
       "      <td>0.025146</td>\n",
       "      <td>0.063477</td>\n",
       "      <td>0.063477</td>\n",
       "      <td>0.063477</td>\n",
       "      <td>0.015616</td>\n",
       "      <td>0.028286</td>\n",
       "      <td>0.029147</td>\n",
       "      <td>0.063477</td>\n",
       "      <td>0.030263</td>\n",
       "    </tr>\n",
       "    <tr>\n",
       "      <th>297</th>\n",
       "      <td>-0.023386</td>\n",
       "      <td>-0.034381</td>\n",
       "      <td>-0.108887</td>\n",
       "      <td>-0.108887</td>\n",
       "      <td>-0.043136</td>\n",
       "      <td>-0.108887</td>\n",
       "      <td>-0.108887</td>\n",
       "      <td>-0.108887</td>\n",
       "      <td>-0.026787</td>\n",
       "      <td>-0.048522</td>\n",
       "      <td>-0.049999</td>\n",
       "      <td>-0.108887</td>\n",
       "      <td>-0.051912</td>\n",
       "    </tr>\n",
       "    <tr>\n",
       "      <th>298</th>\n",
       "      <td>0.010487</td>\n",
       "      <td>0.015417</td>\n",
       "      <td>0.048828</td>\n",
       "      <td>0.048828</td>\n",
       "      <td>0.019343</td>\n",
       "      <td>0.048828</td>\n",
       "      <td>0.048828</td>\n",
       "      <td>0.048828</td>\n",
       "      <td>0.012012</td>\n",
       "      <td>0.021759</td>\n",
       "      <td>0.022421</td>\n",
       "      <td>0.048828</td>\n",
       "      <td>0.023279</td>\n",
       "    </tr>\n",
       "    <tr>\n",
       "      <th>299</th>\n",
       "      <td>-0.028105</td>\n",
       "      <td>-0.041319</td>\n",
       "      <td>-0.130859</td>\n",
       "      <td>-0.130859</td>\n",
       "      <td>-0.051840</td>\n",
       "      <td>-0.130859</td>\n",
       "      <td>-0.130859</td>\n",
       "      <td>-0.130859</td>\n",
       "      <td>-0.032192</td>\n",
       "      <td>-0.058313</td>\n",
       "      <td>-0.060089</td>\n",
       "      <td>-0.130859</td>\n",
       "      <td>-0.062388</td>\n",
       "    </tr>\n",
       "  </tbody>\n",
       "</table>\n",
       "<p>300 rows × 13 columns</p>\n",
       "</div>"
      ],
      "text/plain": [
       "          get      high  backyard     roast       eat marshmellows  backyard  \\\n",
       "0    0.018247  0.026826  0.084961  0.084961  0.033658     0.084961  0.084961   \n",
       "1   -0.020450 -0.030064 -0.095215 -0.095215 -0.037720    -0.095215 -0.095215   \n",
       "2    0.025588  0.037618  0.119141  0.119141  0.047198     0.119141  0.119141   \n",
       "3    0.024015  0.035306  0.111816  0.111816  0.044296     0.111816  0.111816   \n",
       "4   -0.023910 -0.035152 -0.111328 -0.111328 -0.044103    -0.111328 -0.111328   \n",
       "..        ...       ...       ...       ...       ...          ...       ...   \n",
       "295  0.006869  0.010098  0.031982  0.031982  0.012670     0.031982  0.031982   \n",
       "296  0.013633  0.020043  0.063477  0.063477  0.025146     0.063477  0.063477   \n",
       "297 -0.023386 -0.034381 -0.108887 -0.108887 -0.043136    -0.108887 -0.108887   \n",
       "298  0.010487  0.015417  0.048828  0.048828  0.019343     0.048828  0.048828   \n",
       "299 -0.028105 -0.041319 -0.130859 -0.130859 -0.051840    -0.130859 -0.130859   \n",
       "\n",
       "    conversing something intellectual  followed  massages      kiss  \n",
       "0     0.084961  0.020901     0.037860  0.039013  0.084961  0.040506  \n",
       "1    -0.095215 -0.023423    -0.042429 -0.043721 -0.095215 -0.045394  \n",
       "2     0.119141  0.029309     0.053091  0.054708  0.119141  0.056801  \n",
       "3     0.111816  0.027508     0.049827  0.051344  0.111816  0.053309  \n",
       "4    -0.111328 -0.027387    -0.049610 -0.051120 -0.111328 -0.053076  \n",
       "..         ...       ...          ...       ...       ...       ...  \n",
       "295   0.031982  0.007868     0.014252  0.014686  0.031982  0.015248  \n",
       "296   0.063477  0.015616     0.028286  0.029147  0.063477  0.030263  \n",
       "297  -0.108887 -0.026787    -0.048522 -0.049999 -0.108887 -0.051912  \n",
       "298   0.048828  0.012012     0.021759  0.022421  0.048828  0.023279  \n",
       "299  -0.130859 -0.032192    -0.058313 -0.060089 -0.130859 -0.062388  \n",
       "\n",
       "[300 rows x 13 columns]"
      ]
     },
     "execution_count": 235,
     "metadata": {},
     "output_type": "execute_result"
    }
   ],
   "source": [
    "# Element wise multiplication (word2vec embedded word vector * TFIDF Score of each word)\n",
    "z = np.array(embedding[13]).T * np.array(tfidf_w2v[13])\n",
    "#Each Word has a vector (300 Dimension - from Word2Vec) however the values are multiplied with TFIDF Score\n",
    "pd.DataFrame(z, columns=[t[13]] )"
   ]
  },
  {
   "cell_type": "code",
   "execution_count": 236,
   "metadata": {},
   "outputs": [],
   "source": [
    "# computing Element wise multiplication TFIDF * Word2Vec then take the mean to get sentence vector\n",
    "def word_to_sentence(tfidf_score, w2v_vector, num_sample):\n",
    "    sentence_vector = []\n",
    "    for sentence in range(num_sample):\n",
    "        # Embedding * tfidf score (element wise multiplication)\n",
    "        z = np.array(w2v_vector[sentence]).T * np.array(tfidf_score[sentence])\n",
    "        mean = np.mean(z.T, axis=0)\n",
    "        sentence_vector.append(mean)\n",
    "    return sentence_vector"
   ]
  },
  {
   "cell_type": "code",
   "execution_count": 238,
   "metadata": {},
   "outputs": [
    {
     "data": {
      "text/html": [
       "<div>\n",
       "<style scoped>\n",
       "    .dataframe tbody tr th:only-of-type {\n",
       "        vertical-align: middle;\n",
       "    }\n",
       "\n",
       "    .dataframe tbody tr th {\n",
       "        vertical-align: top;\n",
       "    }\n",
       "\n",
       "    .dataframe thead th {\n",
       "        text-align: right;\n",
       "    }\n",
       "</style>\n",
       "<table border=\"1\" class=\"dataframe\">\n",
       "  <thead>\n",
       "    <tr style=\"text-align: right;\">\n",
       "      <th></th>\n",
       "      <th>0</th>\n",
       "      <th>1</th>\n",
       "      <th>2</th>\n",
       "      <th>3</th>\n",
       "      <th>4</th>\n",
       "      <th>5</th>\n",
       "      <th>6</th>\n",
       "      <th>7</th>\n",
       "      <th>8</th>\n",
       "      <th>9</th>\n",
       "      <th>...</th>\n",
       "      <th>290</th>\n",
       "      <th>291</th>\n",
       "      <th>292</th>\n",
       "      <th>293</th>\n",
       "      <th>294</th>\n",
       "      <th>295</th>\n",
       "      <th>296</th>\n",
       "      <th>297</th>\n",
       "      <th>298</th>\n",
       "      <th>299</th>\n",
       "    </tr>\n",
       "  </thead>\n",
       "  <tbody>\n",
       "    <tr>\n",
       "      <th>0</th>\n",
       "      <td>0.000555</td>\n",
       "      <td>-0.000440</td>\n",
       "      <td>0.000156</td>\n",
       "      <td>0.000753</td>\n",
       "      <td>0.000543</td>\n",
       "      <td>-0.000689</td>\n",
       "      <td>-0.000015</td>\n",
       "      <td>-0.000206</td>\n",
       "      <td>-0.000283</td>\n",
       "      <td>0.000528</td>\n",
       "      <td>...</td>\n",
       "      <td>-0.000761</td>\n",
       "      <td>0.000674</td>\n",
       "      <td>-0.000030</td>\n",
       "      <td>-0.000405</td>\n",
       "      <td>0.000652</td>\n",
       "      <td>0.000570</td>\n",
       "      <td>0.000279</td>\n",
       "      <td>-0.000768</td>\n",
       "      <td>-0.000060</td>\n",
       "      <td>-0.000042</td>\n",
       "    </tr>\n",
       "    <tr>\n",
       "      <th>1</th>\n",
       "      <td>0.047836</td>\n",
       "      <td>0.059130</td>\n",
       "      <td>0.059795</td>\n",
       "      <td>0.042521</td>\n",
       "      <td>0.047171</td>\n",
       "      <td>-0.074079</td>\n",
       "      <td>-0.055476</td>\n",
       "      <td>-0.104973</td>\n",
       "      <td>0.014118</td>\n",
       "      <td>0.089692</td>\n",
       "      <td>...</td>\n",
       "      <td>-0.114938</td>\n",
       "      <td>-0.060459</td>\n",
       "      <td>-0.054812</td>\n",
       "      <td>0.044182</td>\n",
       "      <td>0.041690</td>\n",
       "      <td>-0.032223</td>\n",
       "      <td>-0.040029</td>\n",
       "      <td>-0.032389</td>\n",
       "      <td>0.009841</td>\n",
       "      <td>-0.042521</td>\n",
       "    </tr>\n",
       "    <tr>\n",
       "      <th>2</th>\n",
       "      <td>-0.004199</td>\n",
       "      <td>-0.016882</td>\n",
       "      <td>0.015925</td>\n",
       "      <td>0.022625</td>\n",
       "      <td>-0.006483</td>\n",
       "      <td>-0.022799</td>\n",
       "      <td>-0.000468</td>\n",
       "      <td>-0.025758</td>\n",
       "      <td>0.022973</td>\n",
       "      <td>0.030805</td>\n",
       "      <td>...</td>\n",
       "      <td>-0.008049</td>\n",
       "      <td>0.001327</td>\n",
       "      <td>-0.029413</td>\n",
       "      <td>0.029065</td>\n",
       "      <td>0.002828</td>\n",
       "      <td>0.000170</td>\n",
       "      <td>0.006570</td>\n",
       "      <td>0.025410</td>\n",
       "      <td>-0.012444</td>\n",
       "      <td>0.008615</td>\n",
       "    </tr>\n",
       "    <tr>\n",
       "      <th>3</th>\n",
       "      <td>-0.010278</td>\n",
       "      <td>-0.018485</td>\n",
       "      <td>0.054499</td>\n",
       "      <td>0.032827</td>\n",
       "      <td>-0.072028</td>\n",
       "      <td>0.020716</td>\n",
       "      <td>-0.009282</td>\n",
       "      <td>-0.058642</td>\n",
       "      <td>0.076809</td>\n",
       "      <td>0.077127</td>\n",
       "      <td>...</td>\n",
       "      <td>-0.007370</td>\n",
       "      <td>-0.010199</td>\n",
       "      <td>-0.021831</td>\n",
       "      <td>-0.013465</td>\n",
       "      <td>-0.012669</td>\n",
       "      <td>0.041751</td>\n",
       "      <td>0.013147</td>\n",
       "      <td>0.004482</td>\n",
       "      <td>0.039838</td>\n",
       "      <td>-0.096887</td>\n",
       "    </tr>\n",
       "    <tr>\n",
       "      <th>4</th>\n",
       "      <td>0.002761</td>\n",
       "      <td>-0.028691</td>\n",
       "      <td>0.067327</td>\n",
       "      <td>0.008846</td>\n",
       "      <td>-0.052026</td>\n",
       "      <td>0.077656</td>\n",
       "      <td>0.044184</td>\n",
       "      <td>-0.042271</td>\n",
       "      <td>0.028117</td>\n",
       "      <td>0.008177</td>\n",
       "      <td>...</td>\n",
       "      <td>-0.091427</td>\n",
       "      <td>-0.014250</td>\n",
       "      <td>-0.036724</td>\n",
       "      <td>0.071535</td>\n",
       "      <td>0.010616</td>\n",
       "      <td>0.050113</td>\n",
       "      <td>-0.009707</td>\n",
       "      <td>0.004399</td>\n",
       "      <td>0.064267</td>\n",
       "      <td>0.041888</td>\n",
       "    </tr>\n",
       "    <tr>\n",
       "      <th>...</th>\n",
       "      <td>...</td>\n",
       "      <td>...</td>\n",
       "      <td>...</td>\n",
       "      <td>...</td>\n",
       "      <td>...</td>\n",
       "      <td>...</td>\n",
       "      <td>...</td>\n",
       "      <td>...</td>\n",
       "      <td>...</td>\n",
       "      <td>...</td>\n",
       "      <td>...</td>\n",
       "      <td>...</td>\n",
       "      <td>...</td>\n",
       "      <td>...</td>\n",
       "      <td>...</td>\n",
       "      <td>...</td>\n",
       "      <td>...</td>\n",
       "      <td>...</td>\n",
       "      <td>...</td>\n",
       "      <td>...</td>\n",
       "      <td>...</td>\n",
       "    </tr>\n",
       "    <tr>\n",
       "      <th>46348</th>\n",
       "      <td>0.083499</td>\n",
       "      <td>0.077932</td>\n",
       "      <td>0.035905</td>\n",
       "      <td>0.145845</td>\n",
       "      <td>-0.011899</td>\n",
       "      <td>-0.001948</td>\n",
       "      <td>0.037296</td>\n",
       "      <td>0.100199</td>\n",
       "      <td>0.051769</td>\n",
       "      <td>-0.106322</td>\n",
       "      <td>...</td>\n",
       "      <td>-0.102425</td>\n",
       "      <td>-0.210417</td>\n",
       "      <td>-0.127475</td>\n",
       "      <td>0.084056</td>\n",
       "      <td>-0.058171</td>\n",
       "      <td>-0.194831</td>\n",
       "      <td>0.032843</td>\n",
       "      <td>-0.074592</td>\n",
       "      <td>-0.107992</td>\n",
       "      <td>0.107992</td>\n",
       "    </tr>\n",
       "    <tr>\n",
       "      <th>46349</th>\n",
       "      <td>-0.116711</td>\n",
       "      <td>0.248983</td>\n",
       "      <td>0.010780</td>\n",
       "      <td>0.197112</td>\n",
       "      <td>-0.095962</td>\n",
       "      <td>0.263248</td>\n",
       "      <td>0.060625</td>\n",
       "      <td>0.010293</td>\n",
       "      <td>-0.302152</td>\n",
       "      <td>0.178957</td>\n",
       "      <td>...</td>\n",
       "      <td>0.075538</td>\n",
       "      <td>0.069702</td>\n",
       "      <td>0.116711</td>\n",
       "      <td>0.328088</td>\n",
       "      <td>-0.134218</td>\n",
       "      <td>0.004985</td>\n",
       "      <td>-0.079428</td>\n",
       "      <td>0.182847</td>\n",
       "      <td>0.313823</td>\n",
       "      <td>0.057059</td>\n",
       "    </tr>\n",
       "    <tr>\n",
       "      <th>46350</th>\n",
       "      <td>-0.019572</td>\n",
       "      <td>-0.005799</td>\n",
       "      <td>-0.133381</td>\n",
       "      <td>0.030031</td>\n",
       "      <td>-0.235280</td>\n",
       "      <td>-0.101485</td>\n",
       "      <td>0.111012</td>\n",
       "      <td>0.083259</td>\n",
       "      <td>0.012634</td>\n",
       "      <td>0.065448</td>\n",
       "      <td>...</td>\n",
       "      <td>0.063791</td>\n",
       "      <td>-0.095686</td>\n",
       "      <td>-0.070004</td>\n",
       "      <td>-0.046186</td>\n",
       "      <td>-0.065033</td>\n",
       "      <td>0.171489</td>\n",
       "      <td>-0.021125</td>\n",
       "      <td>0.130067</td>\n",
       "      <td>0.063791</td>\n",
       "      <td>-0.140837</td>\n",
       "    </tr>\n",
       "    <tr>\n",
       "      <th>46351</th>\n",
       "      <td>0.070160</td>\n",
       "      <td>0.026070</td>\n",
       "      <td>0.043489</td>\n",
       "      <td>0.056945</td>\n",
       "      <td>-0.003544</td>\n",
       "      <td>-0.080732</td>\n",
       "      <td>-0.127825</td>\n",
       "      <td>-0.141281</td>\n",
       "      <td>-0.103798</td>\n",
       "      <td>0.110045</td>\n",
       "      <td>...</td>\n",
       "      <td>-0.161464</td>\n",
       "      <td>0.114370</td>\n",
       "      <td>0.010993</td>\n",
       "      <td>0.092746</td>\n",
       "      <td>0.002313</td>\n",
       "      <td>0.202791</td>\n",
       "      <td>-0.226818</td>\n",
       "      <td>-0.088901</td>\n",
       "      <td>0.015317</td>\n",
       "      <td>0.162425</td>\n",
       "    </tr>\n",
       "    <tr>\n",
       "      <th>46352</th>\n",
       "      <td>-0.037974</td>\n",
       "      <td>-0.073344</td>\n",
       "      <td>0.016166</td>\n",
       "      <td>0.124121</td>\n",
       "      <td>0.064664</td>\n",
       "      <td>0.027775</td>\n",
       "      <td>0.201371</td>\n",
       "      <td>-0.147556</td>\n",
       "      <td>0.052079</td>\n",
       "      <td>0.095478</td>\n",
       "      <td>...</td>\n",
       "      <td>0.234354</td>\n",
       "      <td>-0.144084</td>\n",
       "      <td>0.040361</td>\n",
       "      <td>0.053164</td>\n",
       "      <td>-0.033634</td>\n",
       "      <td>0.013345</td>\n",
       "      <td>-0.059457</td>\n",
       "      <td>-0.000021</td>\n",
       "      <td>-0.023869</td>\n",
       "      <td>0.112837</td>\n",
       "    </tr>\n",
       "  </tbody>\n",
       "</table>\n",
       "<p>46353 rows × 300 columns</p>\n",
       "</div>"
      ],
      "text/plain": [
       "            0         1         2         3         4         5         6    \\\n",
       "0      0.000555 -0.000440  0.000156  0.000753  0.000543 -0.000689 -0.000015   \n",
       "1      0.047836  0.059130  0.059795  0.042521  0.047171 -0.074079 -0.055476   \n",
       "2     -0.004199 -0.016882  0.015925  0.022625 -0.006483 -0.022799 -0.000468   \n",
       "3     -0.010278 -0.018485  0.054499  0.032827 -0.072028  0.020716 -0.009282   \n",
       "4      0.002761 -0.028691  0.067327  0.008846 -0.052026  0.077656  0.044184   \n",
       "...         ...       ...       ...       ...       ...       ...       ...   \n",
       "46348  0.083499  0.077932  0.035905  0.145845 -0.011899 -0.001948  0.037296   \n",
       "46349 -0.116711  0.248983  0.010780  0.197112 -0.095962  0.263248  0.060625   \n",
       "46350 -0.019572 -0.005799 -0.133381  0.030031 -0.235280 -0.101485  0.111012   \n",
       "46351  0.070160  0.026070  0.043489  0.056945 -0.003544 -0.080732 -0.127825   \n",
       "46352 -0.037974 -0.073344  0.016166  0.124121  0.064664  0.027775  0.201371   \n",
       "\n",
       "            7         8         9    ...       290       291       292  \\\n",
       "0     -0.000206 -0.000283  0.000528  ... -0.000761  0.000674 -0.000030   \n",
       "1     -0.104973  0.014118  0.089692  ... -0.114938 -0.060459 -0.054812   \n",
       "2     -0.025758  0.022973  0.030805  ... -0.008049  0.001327 -0.029413   \n",
       "3     -0.058642  0.076809  0.077127  ... -0.007370 -0.010199 -0.021831   \n",
       "4     -0.042271  0.028117  0.008177  ... -0.091427 -0.014250 -0.036724   \n",
       "...         ...       ...       ...  ...       ...       ...       ...   \n",
       "46348  0.100199  0.051769 -0.106322  ... -0.102425 -0.210417 -0.127475   \n",
       "46349  0.010293 -0.302152  0.178957  ...  0.075538  0.069702  0.116711   \n",
       "46350  0.083259  0.012634  0.065448  ...  0.063791 -0.095686 -0.070004   \n",
       "46351 -0.141281 -0.103798  0.110045  ... -0.161464  0.114370  0.010993   \n",
       "46352 -0.147556  0.052079  0.095478  ...  0.234354 -0.144084  0.040361   \n",
       "\n",
       "            293       294       295       296       297       298       299  \n",
       "0     -0.000405  0.000652  0.000570  0.000279 -0.000768 -0.000060 -0.000042  \n",
       "1      0.044182  0.041690 -0.032223 -0.040029 -0.032389  0.009841 -0.042521  \n",
       "2      0.029065  0.002828  0.000170  0.006570  0.025410 -0.012444  0.008615  \n",
       "3     -0.013465 -0.012669  0.041751  0.013147  0.004482  0.039838 -0.096887  \n",
       "4      0.071535  0.010616  0.050113 -0.009707  0.004399  0.064267  0.041888  \n",
       "...         ...       ...       ...       ...       ...       ...       ...  \n",
       "46348  0.084056 -0.058171 -0.194831  0.032843 -0.074592 -0.107992  0.107992  \n",
       "46349  0.328088 -0.134218  0.004985 -0.079428  0.182847  0.313823  0.057059  \n",
       "46350 -0.046186 -0.065033  0.171489 -0.021125  0.130067  0.063791 -0.140837  \n",
       "46351  0.092746  0.002313  0.202791 -0.226818 -0.088901  0.015317  0.162425  \n",
       "46352  0.053164 -0.033634  0.013345 -0.059457 -0.000021 -0.023869  0.112837  \n",
       "\n",
       "[46353 rows x 300 columns]"
      ]
     },
     "execution_count": 238,
     "metadata": {},
     "output_type": "execute_result"
    }
   ],
   "source": [
    "hybrid = word_to_sentence(tfidf_w2v, embedding, len(testing))\n",
    "hybrid = pd.DataFrame(hybrid)\n",
    "hybrid"
   ]
  },
  {
   "cell_type": "markdown",
   "metadata": {},
   "source": [
    "### Testing witht the Model"
   ]
  },
  {
   "cell_type": "code",
   "execution_count": 246,
   "metadata": {},
   "outputs": [],
   "source": [
    "oversample = SMOTE()\n",
    "X_os, y_os = oversample.fit_resample(hybrid, y)"
   ]
  },
  {
   "cell_type": "markdown",
   "metadata": {},
   "source": [
    "## Logistic Regression"
   ]
  },
  {
   "cell_type": "code",
   "execution_count": 247,
   "metadata": {},
   "outputs": [
    {
     "name": "stdout",
     "output_type": "stream",
     "text": [
      "Accuracy Score:0.7084951866238811\n",
      "                   pre       rec       spe        f1       geo       iba       sup\n",
      "\n",
      "          0       0.69      0.76      0.66      0.72      0.71      0.50      8864\n",
      "          1       0.73      0.66      0.76      0.69      0.71      0.49      8899\n",
      "\n",
      "avg / total       0.71      0.71      0.71      0.71      0.71      0.50     17763\n",
      "\n"
     ]
    }
   ],
   "source": [
    "evaluation(X_os, y_os, lr)"
   ]
  },
  {
   "cell_type": "markdown",
   "metadata": {},
   "source": [
    "## L1- SVC"
   ]
  },
  {
   "cell_type": "code",
   "execution_count": 248,
   "metadata": {},
   "outputs": [
    {
     "name": "stdout",
     "output_type": "stream",
     "text": [
      "Accuracy Score:0.7065810955356641\n",
      "                   pre       rec       spe        f1       geo       iba       sup\n",
      "\n",
      "          0       0.68      0.77      0.64      0.72      0.70      0.50      8864\n",
      "          1       0.74      0.64      0.77      0.69      0.70      0.49      8899\n",
      "\n",
      "avg / total       0.71      0.71      0.71      0.71      0.70      0.50     17763\n",
      "\n"
     ]
    }
   ],
   "source": [
    "evaluation(X_os, y_os, l1)"
   ]
  },
  {
   "cell_type": "markdown",
   "metadata": {},
   "source": [
    "## L2 - SVC"
   ]
  },
  {
   "cell_type": "code",
   "execution_count": 249,
   "metadata": {},
   "outputs": [
    {
     "name": "stdout",
     "output_type": "stream",
     "text": [
      "Accuracy Score:0.7065247987389518\n",
      "                   pre       rec       spe        f1       geo       iba       sup\n",
      "\n",
      "          0       0.68      0.77      0.65      0.72      0.70      0.50      8864\n",
      "          1       0.74      0.65      0.77      0.69      0.70      0.49      8899\n",
      "\n",
      "avg / total       0.71      0.71      0.71      0.71      0.70      0.50     17763\n",
      "\n"
     ]
    }
   ],
   "source": [
    "evaluation(X_os, y_os, l2)"
   ]
  },
  {
   "cell_type": "markdown",
   "metadata": {},
   "source": [
    "## Random Forest"
   ]
  },
  {
   "cell_type": "code",
   "execution_count": 250,
   "metadata": {},
   "outputs": [
    {
     "name": "stdout",
     "output_type": "stream",
     "text": [
      "Accuracy Score:0.756741541406294\n",
      "                   pre       rec       spe        f1       geo       iba       sup\n",
      "\n",
      "          0       0.75      0.76      0.75      0.76      0.76      0.57      8864\n",
      "          1       0.76      0.75      0.76      0.76      0.76      0.57      8899\n",
      "\n",
      "avg / total       0.76      0.76      0.76      0.76      0.76      0.57     17763\n",
      "\n"
     ]
    }
   ],
   "source": [
    "evaluation(X_os, y_os, rf)"
   ]
  },
  {
   "cell_type": "markdown",
   "metadata": {},
   "source": [
    "###  Model performance score was not improved compare to the TFIDF only model however the random forest performance showed the best score. Because we are seeing the a good score with Tree models we can try to implement Boosting algorithms to see if those improves the performance"
   ]
  },
  {
   "cell_type": "markdown",
   "metadata": {},
   "source": [
    "# Neural Network - Sequential API"
   ]
  },
  {
   "cell_type": "code",
   "execution_count": 370,
   "metadata": {},
   "outputs": [],
   "source": [
    "X = testing['Posts']"
   ]
  },
  {
   "cell_type": "code",
   "execution_count": 374,
   "metadata": {},
   "outputs": [],
   "source": [
    "# Setting hyperparameters\n",
    "max_features = 1500 #Top 1500 Vocabularies\n",
    "embed_dim = 100 #Output Dimension for Embedding Layer\n",
    "lstm_out = 176 #Output Dimension for LSTM Layer\n",
    "batch_size =34 "
   ]
  },
  {
   "cell_type": "code",
   "execution_count": 375,
   "metadata": {},
   "outputs": [],
   "source": [
    "#Tokenizing and padding with keras\n",
    "tokenizer = Tokenizer(num_words = max_features, split=' ')\n",
    "tokenizer.fit_on_texts(X.values)\n",
    "padded_sequence = tokenizer.texts_to_sequences(X.values)\n",
    "padded_sequence = pad_sequences(padded_sequence, maxlen=30)\n",
    "\n",
    "word_index = tokenizer.word_index\n",
    "\n",
    "#Total Number of Vocabularies\n",
    "num_tokens = len(word_index) +1"
   ]
  },
  {
   "cell_type": "code",
   "execution_count": 376,
   "metadata": {},
   "outputs": [
    {
     "name": "stdout",
     "output_type": "stream",
     "text": [
      "X_train:(53289, 30), Y_train:(53289, 2)\n",
      "X_test:(17763, 30), Y_test:(17763, 2)\n"
     ]
    }
   ],
   "source": [
    "# Checking the shape of input and output to construct the neural layers\n",
    "sm = SMOTE()\n",
    "X_sm, y_sm = sm.fit_resample(padded_sequence, testing['type'])\n",
    "y_sm = pd.get_dummies(y_sm)\n",
    "\n",
    "\n",
    "X_train, X_test, y_train, y_test = train_test_split(X_sm, y_sm, test_size= 0.25, random_state=42)    \n",
    "print(\"X_train:{}, Y_train:{}\".format(X_train.shape, y_train.shape))\n",
    "print('X_test:{}, Y_test:{}'.format(X_test.shape, y_test.shape))"
   ]
  },
  {
   "cell_type": "markdown",
   "metadata": {},
   "source": [
    "## Embedding layer Implementation"
   ]
  },
  {
   "cell_type": "markdown",
   "metadata": {},
   "source": [
    "Here, we are not utilizing the pretraiend embedding but instead create an embedding layer which allows the neural network to sort the words out by their own decision into a given dimension (for this case 100)"
   ]
  },
  {
   "cell_type": "code",
   "execution_count": 377,
   "metadata": {},
   "outputs": [
    {
     "name": "stdout",
     "output_type": "stream",
     "text": [
      "Model: \"sequential_28\"\n",
      "_________________________________________________________________\n",
      "Layer (type)                 Output Shape              Param #   \n",
      "=================================================================\n",
      "embedding_10 (Embedding)     (None, 30, 100)           150000    \n",
      "_________________________________________________________________\n",
      "spatial_dropout1d_5 (Spatial (None, 30, 100)           0         \n",
      "_________________________________________________________________\n",
      "lstm_10 (LSTM)               (None, 176)               195008    \n",
      "_________________________________________________________________\n",
      "dense_66 (Dense)             (None, 2)                 354       \n",
      "=================================================================\n",
      "Total params: 345,362\n",
      "Trainable params: 345,362\n",
      "Non-trainable params: 0\n",
      "_________________________________________________________________\n",
      "None\n"
     ]
    }
   ],
   "source": [
    "model = Sequential()\n",
    "model.add(Embedding(input_dim = max_features, input_length = X_train.shape[1], \n",
    "                    output_dim = embed_dim, mask_zero=True))\n",
    "model.add(SpatialDropout1D(0.4))\n",
    "model.add(LSTM(lstm_out, dropout=0.2 ))\n",
    "model.add(Dense(2, activation = 'sigmoid'))\n",
    "\n",
    "model.compile(loss = 'binary_crossentropy', optimizer = 'adam', metrics= ['accuracy'])\n",
    "\n",
    "print(model.summary())\n"
   ]
  },
  {
   "cell_type": "code",
   "execution_count": 378,
   "metadata": {},
   "outputs": [
    {
     "name": "stdout",
     "output_type": "stream",
     "text": [
      "Epoch 1/10\n",
      "1568/1568 [==============================] - 71s 43ms/step - loss: 0.6542 - accuracy: 0.6062 - val_loss: 0.6304 - val_accuracy: 0.6383\n",
      "Epoch 2/10\n",
      "1568/1568 [==============================] - 75s 48ms/step - loss: 0.5979 - accuracy: 0.6714 - val_loss: 0.6083 - val_accuracy: 0.6636\n",
      "Epoch 3/10\n",
      "1568/1568 [==============================] - 71s 45ms/step - loss: 0.5698 - accuracy: 0.6990 - val_loss: 0.5969 - val_accuracy: 0.6745\n",
      "Epoch 4/10\n",
      "1568/1568 [==============================] - 67s 43ms/step - loss: 0.5516 - accuracy: 0.7131 - val_loss: 0.5960 - val_accuracy: 0.6773\n",
      "Epoch 5/10\n",
      "1568/1568 [==============================] - 65s 42ms/step - loss: 0.5352 - accuracy: 0.7263 - val_loss: 0.5949 - val_accuracy: 0.6826\n",
      "Epoch 6/10\n",
      "1568/1568 [==============================] - 66s 42ms/step - loss: 0.5208 - accuracy: 0.7362 - val_loss: 0.5978 - val_accuracy: 0.6814\n",
      "Epoch 7/10\n",
      "1568/1568 [==============================] - 65s 41ms/step - loss: 0.5077 - accuracy: 0.7439 - val_loss: 0.6073 - val_accuracy: 0.6869\n",
      "Epoch 8/10\n",
      "1568/1568 [==============================] - 64s 41ms/step - loss: 0.4930 - accuracy: 0.7565 - val_loss: 0.6095 - val_accuracy: 0.6837\n",
      "Epoch 9/10\n",
      "1568/1568 [==============================] - 67s 42ms/step - loss: 0.4815 - accuracy: 0.7614 - val_loss: 0.6101 - val_accuracy: 0.6857\n",
      "Epoch 10/10\n",
      "1568/1568 [==============================] - 69s 44ms/step - loss: 0.4679 - accuracy: 0.7704 - val_loss: 0.6319 - val_accuracy: 0.6826\n"
     ]
    }
   ],
   "source": [
    "# Running the Model\n",
    "history = model.fit(X_train, y_train, epochs = 10, batch_size = batch_size, verbose =1,\n",
    "         validation_data=(X_test, y_test))"
   ]
  },
  {
   "cell_type": "code",
   "execution_count": 426,
   "metadata": {},
   "outputs": [
    {
     "data": {
      "text/plain": [
       "<matplotlib.legend.Legend at 0x23d97c115e0>"
      ]
     },
     "execution_count": 426,
     "metadata": {},
     "output_type": "execute_result"
    },
    {
     "data": {
      "image/png": "[encoded data removed]",
      "text/plain": [
       "<Figure size 1008x432 with 2 Axes>"
      ]
     },
     "metadata": {
      "needs_background": "light"
     },
     "output_type": "display_data"
    }
   ],
   "source": [
    "history_dict = history.history\n",
    "loss_values = history_dict['loss']\n",
    "val_loss_values = history_dict['val_loss']\n",
    "accuracy = history_dict['accuracy']\n",
    "val_accuracy = history_dict['val_accuracy']\n",
    " \n",
    "epochs = range(1, len(loss_values) + 1)\n",
    "fig, ax = plt.subplots(1, 2, figsize=(14, 6))\n",
    "#\n",
    "# Plot the model accuracy vs Epochs\n",
    "#\n",
    "ax[0].plot(epochs, accuracy, 'bo', label='Training accuracy')\n",
    "ax[0].plot(epochs, val_accuracy, 'b', label='Validation accuracy')\n",
    "ax[0].set_title('Training & Validation Accuracy', fontsize=16)\n",
    "ax[0].set_xlabel('Epochs', fontsize=16)\n",
    "ax[0].set_ylabel('Accuracy', fontsize=16)\n",
    "ax[0].legend()\n",
    "#\n",
    "# Plot the loss vs Epochs\n",
    "#\n",
    "ax[1].plot(epochs, loss_values, 'bo', label='Training loss')\n",
    "ax[1].plot(epochs, val_loss_values, 'b', label='Validation loss')\n",
    "ax[1].set_title('Training & Validation Loss', fontsize=16)\n",
    "ax[1].set_xlabel('Epochs', fontsize=16)\n",
    "ax[1].set_ylabel('Loss', fontsize=16)\n",
    "ax[1].legend()"
   ]
  },
  {
   "cell_type": "markdown",
   "metadata": {},
   "source": [
    "## Pretrained Word2Vec LSTM"
   ]
  },
  {
   "cell_type": "code",
   "execution_count": 379,
   "metadata": {},
   "outputs": [
    {
     "name": "stdout",
     "output_type": "stream",
     "text": [
      "Embedding Matrix Shape: (36354, 300)\n"
     ]
    }
   ],
   "source": [
    "#Creating the Emebdding Matrix to be utiliz by the neural network\n",
    "embedding_dim = 300 # Embedding Dimensions\n",
    "embedding_matrix = np.zeros((num_tokens, embedding_dim)) #Initializing Embedding Matrix (Weight Matrix for Embedding Layer)\n",
    "embedding_vector = 0 #Initialization of vector for each word \n",
    "\n",
    "\n",
    "for word,index in word_index.items():\n",
    "    try:\n",
    "        embedding_vector = w2v[word]\n",
    "    except:\n",
    "        pass\n",
    "    if embedding_vector is not None:\n",
    "        embedding_matrix[index] = embedding_vector\n",
    "print('Embedding Matrix Shape:', embedding_matrix.shape)"
   ]
  },
  {
   "cell_type": "code",
   "execution_count": 372,
   "metadata": {},
   "outputs": [],
   "source": [
    "# Getting the maximum token counts \n",
    "def get_max_length(df):\n",
    "\n",
    "    max_length = 0\n",
    "    for row in df['Posts']:\n",
    "        if len(row.split(\" \")) > max_length:\n",
    "            max_length = len(row.split(\" \"))\n",
    "    return max_length"
   ]
  },
  {
   "cell_type": "code",
   "execution_count": 381,
   "metadata": {},
   "outputs": [
    {
     "data": {
      "text/plain": [
       "46"
      ]
     },
     "execution_count": 381,
     "metadata": {},
     "output_type": "execute_result"
    }
   ],
   "source": [
    "get_max_length(testing)"
   ]
  },
  {
   "cell_type": "markdown",
   "metadata": {},
   "source": [
    "Because the input will be in sparse vector, we multiply the embedding matrix with the vector will provide a 300dimensional vector that represents each word"
   ]
  },
  {
   "cell_type": "code",
   "execution_count": 390,
   "metadata": {},
   "outputs": [
    {
     "name": "stdout",
     "output_type": "stream",
     "text": [
      "X_train:(53289, 46), Y_train:(53289, 2)\n",
      "X_test:(17763, 46), Y_test:(17763, 2)\n"
     ]
    }
   ],
   "source": [
    "# Padding the sentnece to have equal length (46- the maximum token size)\n",
    "padded_sequence = tokenizer.texts_to_sequences(X.values)\n",
    "padded_sequence = pad_sequences(padded_sequence, maxlen=46)\n",
    "\n",
    "oversample = SMOTE()\n",
    "X_os, y_os = oversample.fit_resample(padded_sequence, testing['type'])\n",
    "y_os = pd.get_dummies(y_os)\n",
    "\n",
    "X_train, X_test, y_train, y_test = train_test_split(X_os, y_os, test_size= 0.25, random_state=42)\n",
    "print(\"X_train:{}, Y_train:{}\".format(X_train.shape, y_train.shape))\n",
    "print('X_test:{}, Y_test:{}'.format(X_test.shape, y_test.shape))"
   ]
  },
  {
   "cell_type": "code",
   "execution_count": 391,
   "metadata": {},
   "outputs": [
    {
     "name": "stdout",
     "output_type": "stream",
     "text": [
      "Model: \"sequential_29\"\n",
      "_________________________________________________________________\n",
      "Layer (type)                 Output Shape              Param #   \n",
      "=================================================================\n",
      "embedding_11 (Embedding)     (None, 46, 300)           10906200  \n",
      "_________________________________________________________________\n",
      "spatial_dropout1d_6 (Spatial (None, 46, 300)           0         \n",
      "_________________________________________________________________\n",
      "lstm_11 (LSTM)               (None, 150)               270600    \n",
      "_________________________________________________________________\n",
      "dense_67 (Dense)             (None, 2)                 302       \n",
      "=================================================================\n",
      "Total params: 11,177,102\n",
      "Trainable params: 270,902\n",
      "Non-trainable params: 10,906,200\n",
      "_________________________________________________________________\n",
      "None\n"
     ]
    }
   ],
   "source": [
    "rnn = Sequential()\n",
    "rnn.add(Embedding(input_dim = num_tokens,  #Input Dimension = Total Words or Tokens \n",
    "                    output_dim = embedding_dim, #Output Dimension = Word2Vec Dimension (300 in this case)\n",
    "                            input_length= X_train.shape[1], #Input Length = Pad Sequence Length\n",
    "                            embeddings_initializer = #Embedding Weight Matrix = (Total Token, Word2Vec Dimension)\n",
    "                            keras.initializers.Constant(embedding_matrix),\n",
    "                           trainable = False))\n",
    "\n",
    "rnn.add(SpatialDropout1D(0.5))\n",
    "rnn.add(LSTM(150, dropout=0.2, recurrent_dropout=0.2))\n",
    "rnn.add(Dense(2,activation='softmax'))\n",
    "rnn.compile(loss = 'categorical_crossentropy', optimizer='adam' ,metrics = ['accuracy'])\n",
    "print(rnn.summary())"
   ]
  },
  {
   "cell_type": "code",
   "execution_count": 392,
   "metadata": {},
   "outputs": [
    {
     "name": "stdout",
     "output_type": "stream",
     "text": [
      "Epoch 1/10\n",
      "1568/1568 [==============================] - 179s 113ms/step - loss: 0.6815 - accuracy: 0.5582 - val_loss: 0.6600 - val_accuracy: 0.6101\n",
      "Epoch 2/10\n",
      "1568/1568 [==============================] - 191s 122ms/step - loss: 0.6563 - accuracy: 0.6060 - val_loss: 0.6369 - val_accuracy: 0.6396\n",
      "Epoch 3/10\n",
      "1568/1568 [==============================] - 187s 119ms/step - loss: 0.6334 - accuracy: 0.6382 - val_loss: 0.6161 - val_accuracy: 0.6564\n",
      "Epoch 4/10\n",
      "1568/1568 [==============================] - 193s 123ms/step - loss: 0.6126 - accuracy: 0.6599 - val_loss: 0.5959 - val_accuracy: 0.6737\n",
      "Epoch 5/10\n",
      "1568/1568 [==============================] - 199s 127ms/step - loss: 0.5970 - accuracy: 0.6755 - val_loss: 0.5868 - val_accuracy: 0.6829\n",
      "Epoch 6/10\n",
      "1568/1568 [==============================] - 201s 128ms/step - loss: 0.5822 - accuracy: 0.6883 - val_loss: 0.5746 - val_accuracy: 0.6961\n",
      "Epoch 7/10\n",
      "1568/1568 [==============================] - 194s 124ms/step - loss: 0.5689 - accuracy: 0.6995 - val_loss: 0.5696 - val_accuracy: 0.7026\n",
      "Epoch 8/10\n",
      "1568/1568 [==============================] - 193s 123ms/step - loss: 0.5579 - accuracy: 0.7082 - val_loss: 0.5618 - val_accuracy: 0.7070\n",
      "Epoch 9/10\n",
      "1568/1568 [==============================] - 193s 123ms/step - loss: 0.5497 - accuracy: 0.7143 - val_loss: 0.5637 - val_accuracy: 0.7071\n",
      "Epoch 10/10\n",
      "1568/1568 [==============================] - 193s 123ms/step - loss: 0.5392 - accuracy: 0.7222 - val_loss: 0.5550 - val_accuracy: 0.7107\n"
     ]
    },
    {
     "data": {
      "text/plain": [
       "<keras.callbacks.History at 0x23d97efdac0>"
      ]
     },
     "execution_count": 392,
     "metadata": {},
     "output_type": "execute_result"
    }
   ],
   "source": [
    "rnn.fit(X_train, y_train, epochs = 10, batch_size = batch_size, verbose =1,\n",
    "         validation_data=(X_test, y_test))"
   ]
  },
  {
   "cell_type": "markdown",
   "metadata": {},
   "source": [
    "## Multi Layered Perceptron"
   ]
  },
  {
   "cell_type": "code",
   "execution_count": 393,
   "metadata": {},
   "outputs": [],
   "source": [
    "from tensorflow.keras.optimizers import SGD\n",
    "opt = SGD(lr=0.01, momentum = 0.9, clipnorm=0.5)\n",
    "sgd = SGD(lr=0.01, decay=1e-6, momentum=0.9, nesterov=True, clipnorm = 0.5)"
   ]
  },
  {
   "cell_type": "code",
   "execution_count": 421,
   "metadata": {},
   "outputs": [
    {
     "ename": "SyntaxError",
     "evalue": "invalid syntax (<ipython-input-421-c7e4683b6bef>, line 2)",
     "output_type": "error",
     "traceback": [
      "\u001b[1;36m  File \u001b[1;32m\"<ipython-input-421-c7e4683b6bef>\"\u001b[1;36m, line \u001b[1;32m2\u001b[0m\n\u001b[1;33m    model.add(Dense(300, activation='relu', input_shape = (,46)))\u001b[0m\n\u001b[1;37m                                                           ^\u001b[0m\n\u001b[1;31mSyntaxError\u001b[0m\u001b[1;31m:\u001b[0m invalid syntax\n"
     ]
    }
   ],
   "source": [
    "model = Sequential()\n",
    "model.add(Dense(300, activation='relu', input_shape = (46,)))\n",
    "model.add(Dropout(0.5))\n",
    "\n",
    "model.add(Dense(50, activation='relu'))\n",
    "model.add(Dense(2, activation='softmax'))\n",
    "model.compile(loss = 'categorical_crossentropy', optimizer = sgd , metrics = ['accuracy'])\n",
    "print(model.summary())"
   ]
  },
  {
   "cell_type": "code",
   "execution_count": 422,
   "metadata": {},
   "outputs": [
    {
     "name": "stdout",
     "output_type": "stream",
     "text": [
      "Epoch 1/5\n",
      "833/833 [==============================] - 1s 2ms/step - loss: 0.6925 - accuracy: 0.5201 - val_loss: 0.6916 - val_accuracy: 0.5227\n",
      "Epoch 2/5\n",
      "833/833 [==============================] - 1s 2ms/step - loss: 0.6925 - accuracy: 0.5224 - val_loss: 0.6931 - val_accuracy: 0.5216\n",
      "Epoch 3/5\n",
      "833/833 [==============================] - 1s 2ms/step - loss: 0.6922 - accuracy: 0.5231 - val_loss: 0.6925 - val_accuracy: 0.5213\n",
      "Epoch 4/5\n",
      "833/833 [==============================] - 1s 2ms/step - loss: 0.6916 - accuracy: 0.5231 - val_loss: 0.6923 - val_accuracy: 0.5256\n",
      "Epoch 5/5\n",
      "833/833 [==============================] - 1s 2ms/step - loss: 0.6914 - accuracy: 0.5249 - val_loss: 0.6925 - val_accuracy: 0.5245\n"
     ]
    }
   ],
   "source": [
    "MLP_history = model.fit(X_train, y_train, epochs = 5, batch_size = 64, verbose =1,\n",
    "         validation_data=(X_test, y_test))"
   ]
  },
  {
   "cell_type": "markdown",
   "metadata": {},
   "source": [
    "## LSTM - Convolution Hybrid"
   ]
  },
  {
   "cell_type": "code",
   "execution_count": 423,
   "metadata": {},
   "outputs": [
    {
     "name": "stdout",
     "output_type": "stream",
     "text": [
      "Model: \"sequential_43\"\n",
      "_________________________________________________________________\n",
      "Layer (type)                 Output Shape              Param #   \n",
      "=================================================================\n",
      "embedding_12 (Embedding)     (None, 46, 300)           10906200  \n",
      "_________________________________________________________________\n",
      "conv1d_5 (Conv1D)            (None, 46, 32)            28832     \n",
      "_________________________________________________________________\n",
      "dropout_39 (Dropout)         (None, 46, 32)            0         \n",
      "_________________________________________________________________\n",
      "max_pooling1d_5 (MaxPooling1 (None, 23, 32)            0         \n",
      "_________________________________________________________________\n",
      "lstm_12 (LSTM)               (None, 100)               53200     \n",
      "_________________________________________________________________\n",
      "dropout_40 (Dropout)         (None, 100)               0         \n",
      "_________________________________________________________________\n",
      "dense_115 (Dense)            (None, 2)                 202       \n",
      "=================================================================\n",
      "Total params: 10,988,434\n",
      "Trainable params: 82,234\n",
      "Non-trainable params: 10,906,200\n",
      "_________________________________________________________________\n",
      "None\n"
     ]
    }
   ],
   "source": [
    "model = Sequential()\n",
    "model.add(Embedding(input_dim = num_tokens,  #Input Dimension = Total Words or Tokens \n",
    "                    output_dim = embedding_dim, #Output Dimension = Word2Vec Dimension (300 in this case)\n",
    "                            input_length= X_train.shape[1], #Input Length = Pad Sequence Length\n",
    "                            embeddings_initializer = #Embedding Weight Matrix = (Total Token, Word2Vec Dimension)\n",
    "                            keras.initializers.Constant(embedding_matrix),\n",
    "                           trainable = False))\n",
    "model.add(Conv1D(filters=32, kernel_size=3, padding='same', activation='relu'))\n",
    "model.add(Dropout(0.5))\n",
    "model.add(MaxPooling1D(pool_size=2))\n",
    "model.add(LSTM(100))\n",
    "model.add(Dropout(0.5))\n",
    "\n",
    "model.add(Dense(2, activation='sigmoid'))\n",
    "model.compile(loss='binary_crossentropy', optimizer='adam', metrics=['accuracy'])\n",
    "print(model.summary())"
   ]
  },
  {
   "cell_type": "code",
   "execution_count": 424,
   "metadata": {},
   "outputs": [
    {
     "name": "stdout",
     "output_type": "stream",
     "text": [
      "Epoch 1/10\n",
      "1568/1568 [==============================] - 34s 21ms/step - loss: 0.6685 - accuracy: 0.5788 - val_loss: 0.6397 - val_accuracy: 0.6171\n",
      "Epoch 2/10\n",
      "1568/1568 [==============================] - 39s 25ms/step - loss: 0.6218 - accuracy: 0.6520 - val_loss: 0.6035 - val_accuracy: 0.6664\n",
      "Epoch 3/10\n",
      "1568/1568 [==============================] - 38s 24ms/step - loss: 0.5988 - accuracy: 0.6710 - val_loss: 0.5971 - val_accuracy: 0.6690\n",
      "Epoch 4/10\n",
      "1568/1568 [==============================] - 38s 25ms/step - loss: 0.5841 - accuracy: 0.6859 - val_loss: 0.5853 - val_accuracy: 0.6864\n",
      "Epoch 5/10\n",
      "1568/1568 [==============================] - 38s 24ms/step - loss: 0.5749 - accuracy: 0.6939 - val_loss: 0.5875 - val_accuracy: 0.6846\n",
      "Epoch 6/10\n",
      "1568/1568 [==============================] - 37s 24ms/step - loss: 0.5670 - accuracy: 0.6993 - val_loss: 0.5744 - val_accuracy: 0.6910\n",
      "Epoch 7/10\n",
      "1568/1568 [==============================] - 37s 23ms/step - loss: 0.5608 - accuracy: 0.7056 - val_loss: 0.5770 - val_accuracy: 0.6927\n",
      "Epoch 8/10\n",
      "1568/1568 [==============================] - 37s 24ms/step - loss: 0.5538 - accuracy: 0.7107 - val_loss: 0.5787 - val_accuracy: 0.6875\n",
      "Epoch 9/10\n",
      "1568/1568 [==============================] - 37s 24ms/step - loss: 0.5495 - accuracy: 0.7175 - val_loss: 0.5843 - val_accuracy: 0.6848\n",
      "Epoch 10/10\n",
      "1568/1568 [==============================] - 37s 24ms/step - loss: 0.5458 - accuracy: 0.7177 - val_loss: 0.5718 - val_accuracy: 0.6963\n"
     ]
    }
   ],
   "source": [
    "rnncnn = model.fit(X_train, y_train, epochs = 10, batch_size = batch_size, verbose =1,\n",
    "         validation_data=(X_test, y_test))"
   ]
  },
  {
   "cell_type": "code",
   "execution_count": 425,
   "metadata": {},
   "outputs": [
    {
     "data": {
      "text/plain": [
       "<matplotlib.legend.Legend at 0x23d9da093d0>"
      ]
     },
     "execution_count": 425,
     "metadata": {},
     "output_type": "execute_result"
    },
    {
     "data": {
      "image/png": "[encoded data removed]",
      "text/plain": [
       "<Figure size 1008x432 with 2 Axes>"
      ]
     },
     "metadata": {
      "needs_background": "light"
     },
     "output_type": "display_data"
    }
   ],
   "source": [
    "history_dict = rnncnn.history\n",
    "loss_values = history_dict['loss']\n",
    "val_loss_values = history_dict['val_loss']\n",
    "accuracy = history_dict['accuracy']\n",
    "val_accuracy = history_dict['val_accuracy']\n",
    " \n",
    "epochs = range(1, len(loss_values) + 1)\n",
    "fig, ax = plt.subplots(1, 2, figsize=(14, 6))\n",
    "#\n",
    "# Plot the model accuracy vs Epochs\n",
    "#\n",
    "ax[0].plot(epochs, accuracy, 'bo', label='Training accuracy')\n",
    "ax[0].plot(epochs, val_accuracy, 'b', label='Validation accuracy')\n",
    "ax[0].set_title('Training & Validation Accuracy', fontsize=16)\n",
    "ax[0].set_xlabel('Epochs', fontsize=16)\n",
    "ax[0].set_ylabel('Accuracy', fontsize=16)\n",
    "ax[0].legend()\n",
    "#\n",
    "# Plot the loss vs Epochs\n",
    "#\n",
    "ax[1].plot(epochs, loss_values, 'bo', label='Training loss')\n",
    "ax[1].plot(epochs, val_loss_values, 'b', label='Validation loss')\n",
    "ax[1].set_title('Training & Validation Loss', fontsize=16)\n",
    "ax[1].set_xlabel('Epochs', fontsize=16)\n",
    "ax[1].set_ylabel('Loss', fontsize=16)\n",
    "ax[1].legend()"
   ]
  },
  {
   "cell_type": "code",
   "execution_count": null,
   "metadata": {},
   "outputs": [],
   "source": []
  }
 ],
 "metadata": {
  "kernelspec": {
   "display_name": "Python 3",
   "language": "python",
   "name": "python3"
  },
  "language_info": {
   "codemirror_mode": {
    "name": "ipython",
    "version": 3
   },
   "file_extension": ".py",
   "mimetype": "text/x-python",
   "name": "python",
   "nbconvert_exporter": "python",
   "pygments_lexer": "ipython3",
   "version": "3.8.3"
  }
 },
 "nbformat": 4,
 "nbformat_minor": 4
}
